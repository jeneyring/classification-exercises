{
 "cells": [
  {
   "cell_type": "code",
   "execution_count": 1,
   "id": "8a6b34d9",
   "metadata": {},
   "outputs": [],
   "source": [
    "# ignore warnings\n",
    "import warnings\n",
    "warnings.filterwarnings(\"ignore\")\n",
    "\n",
    "import acquire\n",
    "import prepare\n",
    "\n",
    "import numpy as np\n",
    "import pandas as pd\n",
    "from pydataset import data\n",
    "\n",
    "from sklearn.model_selection import train_test_split\n",
    "from sklearn.tree import DecisionTreeClassifier, plot_tree\n",
    "from sklearn.metrics import classification_report\n",
    "from sklearn.metrics import confusion_matrix\n",
    "\n",
    "import matplotlib.pyplot as plt\n",
    "import seaborn as sns\n"
   ]
  },
  {
   "cell_type": "markdown",
   "id": "aeb3caa6",
   "metadata": {},
   "source": [
    "## Model Exercises\n",
    "\n",
    "## <u>Decision Tree exercises</u>\n",
    "### Exercise 1) <br> Using the titanic data, in your classification-exercises repository, create a notebook, model.ipynb where you will do the following:\n",
    "\n",
    "- What is your baseline prediction? \n",
    "- What is your baseline accuracy? remember: your baseline prediction for a classification problem is predicting the most prevelant class in the training dataset (the mode). \n",
    "- When you make those predictions, what is your accuracy? This is your baseline accuracy."
   ]
  },
  {
   "cell_type": "code",
   "execution_count": 2,
   "id": "7ed2c360",
   "metadata": {},
   "outputs": [],
   "source": [
    "# read titanic data from acquire\n",
    "titanic = acquire.new_titanic_data()"
   ]
  },
  {
   "cell_type": "code",
   "execution_count": 3,
   "id": "04cfbf08",
   "metadata": {},
   "outputs": [
    {
     "data": {
      "text/plain": [
       "survived                    0\n",
       "pclass                      0\n",
       "sex                         0\n",
       "age                         0\n",
       "sibsp                       0\n",
       "parch                       0\n",
       "fare                        0\n",
       "embark_town                 0\n",
       "alone                       0\n",
       "pclass                      0\n",
       "sibsp                       0\n",
       "parch                       0\n",
       "alone                       0\n",
       "sex_male                    0\n",
       "embark_town_Queenstown      0\n",
       "embark_town_Southampton     0\n",
       "embark_town_Southhampton    0\n",
       "dtype: int64"
      ]
     },
     "execution_count": 3,
     "metadata": {},
     "output_type": "execute_result"
    }
   ],
   "source": [
    "#from prepare.py take in the titanic dataset and us the clean_titanic_data on this fresh data set\n",
    "#had originally found NaN within age...\n",
    "train, validate, test =prepare.prepare_titanic_data(titanic)\n",
    "train.isna().sum()"
   ]
  },
  {
   "cell_type": "code",
   "execution_count": 4,
   "id": "384389ce",
   "metadata": {},
   "outputs": [
    {
     "data": {
      "text/html": [
       "<div>\n",
       "<style scoped>\n",
       "    .dataframe tbody tr th:only-of-type {\n",
       "        vertical-align: middle;\n",
       "    }\n",
       "\n",
       "    .dataframe tbody tr th {\n",
       "        vertical-align: top;\n",
       "    }\n",
       "\n",
       "    .dataframe thead th {\n",
       "        text-align: right;\n",
       "    }\n",
       "</style>\n",
       "<table border=\"1\" class=\"dataframe\">\n",
       "  <thead>\n",
       "    <tr style=\"text-align: right;\">\n",
       "      <th></th>\n",
       "      <th>survived</th>\n",
       "      <th>pclass</th>\n",
       "      <th>sex</th>\n",
       "      <th>age</th>\n",
       "      <th>sibsp</th>\n",
       "      <th>parch</th>\n",
       "      <th>fare</th>\n",
       "      <th>embark_town</th>\n",
       "      <th>alone</th>\n",
       "      <th>pclass</th>\n",
       "      <th>sibsp</th>\n",
       "      <th>parch</th>\n",
       "      <th>alone</th>\n",
       "      <th>sex_male</th>\n",
       "      <th>embark_town_Queenstown</th>\n",
       "      <th>embark_town_Southampton</th>\n",
       "      <th>embark_town_Southhampton</th>\n",
       "    </tr>\n",
       "  </thead>\n",
       "  <tbody>\n",
       "    <tr>\n",
       "      <th>583</th>\n",
       "      <td>0</td>\n",
       "      <td>1</td>\n",
       "      <td>male</td>\n",
       "      <td>36.000000</td>\n",
       "      <td>0</td>\n",
       "      <td>0</td>\n",
       "      <td>40.1250</td>\n",
       "      <td>Cherbourg</td>\n",
       "      <td>1</td>\n",
       "      <td>1</td>\n",
       "      <td>0</td>\n",
       "      <td>0</td>\n",
       "      <td>1</td>\n",
       "      <td>1</td>\n",
       "      <td>0</td>\n",
       "      <td>0</td>\n",
       "      <td>0</td>\n",
       "    </tr>\n",
       "    <tr>\n",
       "      <th>165</th>\n",
       "      <td>1</td>\n",
       "      <td>3</td>\n",
       "      <td>male</td>\n",
       "      <td>9.000000</td>\n",
       "      <td>0</td>\n",
       "      <td>2</td>\n",
       "      <td>20.5250</td>\n",
       "      <td>Southampton</td>\n",
       "      <td>0</td>\n",
       "      <td>3</td>\n",
       "      <td>0</td>\n",
       "      <td>2</td>\n",
       "      <td>0</td>\n",
       "      <td>1</td>\n",
       "      <td>0</td>\n",
       "      <td>1</td>\n",
       "      <td>0</td>\n",
       "    </tr>\n",
       "    <tr>\n",
       "      <th>50</th>\n",
       "      <td>0</td>\n",
       "      <td>3</td>\n",
       "      <td>male</td>\n",
       "      <td>7.000000</td>\n",
       "      <td>4</td>\n",
       "      <td>1</td>\n",
       "      <td>39.6875</td>\n",
       "      <td>Southampton</td>\n",
       "      <td>0</td>\n",
       "      <td>3</td>\n",
       "      <td>4</td>\n",
       "      <td>1</td>\n",
       "      <td>0</td>\n",
       "      <td>1</td>\n",
       "      <td>0</td>\n",
       "      <td>1</td>\n",
       "      <td>0</td>\n",
       "    </tr>\n",
       "    <tr>\n",
       "      <th>259</th>\n",
       "      <td>1</td>\n",
       "      <td>2</td>\n",
       "      <td>female</td>\n",
       "      <td>50.000000</td>\n",
       "      <td>0</td>\n",
       "      <td>1</td>\n",
       "      <td>26.0000</td>\n",
       "      <td>Southampton</td>\n",
       "      <td>0</td>\n",
       "      <td>2</td>\n",
       "      <td>0</td>\n",
       "      <td>1</td>\n",
       "      <td>0</td>\n",
       "      <td>0</td>\n",
       "      <td>0</td>\n",
       "      <td>1</td>\n",
       "      <td>0</td>\n",
       "    </tr>\n",
       "    <tr>\n",
       "      <th>306</th>\n",
       "      <td>1</td>\n",
       "      <td>1</td>\n",
       "      <td>female</td>\n",
       "      <td>29.699118</td>\n",
       "      <td>0</td>\n",
       "      <td>0</td>\n",
       "      <td>110.8833</td>\n",
       "      <td>Cherbourg</td>\n",
       "      <td>1</td>\n",
       "      <td>1</td>\n",
       "      <td>0</td>\n",
       "      <td>0</td>\n",
       "      <td>1</td>\n",
       "      <td>0</td>\n",
       "      <td>0</td>\n",
       "      <td>0</td>\n",
       "      <td>0</td>\n",
       "    </tr>\n",
       "  </tbody>\n",
       "</table>\n",
       "</div>"
      ],
      "text/plain": [
       "     survived  pclass     sex        age  sibsp  parch      fare  embark_town  \\\n",
       "583         0       1    male  36.000000      0      0   40.1250    Cherbourg   \n",
       "165         1       3    male   9.000000      0      2   20.5250  Southampton   \n",
       "50          0       3    male   7.000000      4      1   39.6875  Southampton   \n",
       "259         1       2  female  50.000000      0      1   26.0000  Southampton   \n",
       "306         1       1  female  29.699118      0      0  110.8833    Cherbourg   \n",
       "\n",
       "     alone  pclass  sibsp  parch  alone  sex_male  embark_town_Queenstown  \\\n",
       "583      1       1      0      0      1         1                       0   \n",
       "165      0       3      0      2      0         1                       0   \n",
       "50       0       3      4      1      0         1                       0   \n",
       "259      0       2      0      1      0         0                       0   \n",
       "306      1       1      0      0      1         0                       0   \n",
       "\n",
       "     embark_town_Southampton  embark_town_Southhampton  \n",
       "583                        0                         0  \n",
       "165                        1                         0  \n",
       "50                         1                         0  \n",
       "259                        1                         0  \n",
       "306                        0                         0  "
      ]
     },
     "execution_count": 4,
     "metadata": {},
     "output_type": "execute_result"
    }
   ],
   "source": [
    "train.head()"
   ]
  },
  {
   "cell_type": "code",
   "execution_count": 5,
   "id": "5a531cc7",
   "metadata": {},
   "outputs": [],
   "source": [
    "#removed the columns from each df (train, validate, test)not needed (duplicated info)\n",
    "train = train.drop(columns=['sex', 'embark_town'])\n",
    "validate = validate.drop(columns=['sex', 'embark_town'])\n",
    "test = test.drop(columns=['sex', 'embark_town'])"
   ]
  },
  {
   "cell_type": "markdown",
   "id": "82530455",
   "metadata": {},
   "source": [
    "Setting up our train_validate_test..."
   ]
  },
  {
   "cell_type": "code",
   "execution_count": 6,
   "id": "c5fb155d",
   "metadata": {},
   "outputs": [],
   "source": [
    "#let's do our train/validate/test split\n",
    "from sklearn.model_selection import train_test_split\n",
    "\n",
    "def train_validate_test_split(df, target, seed=123):\n",
    "    '''\n",
    "    This function takes in a dataframe, the name of the target variable\n",
    "    (for stratification purposes), and an integer for a setting a seed\n",
    "    and splits the data into train, validate and test. \n",
    "    Test is 20% of the original dataset, validate is .30*.80= 24% of the \n",
    "    original dataset, and train is .70*.80= 56% of the original dataset. \n",
    "    The function returns, in this order, train, validate and test dataframes. \n",
    "    '''\n",
    "    train_validate, test = train_test_split(df, test_size=0.2, \n",
    "                                            random_state=seed, \n",
    "                                            stratify=df[target])\n",
    "    train, validate = train_test_split(train_validate, test_size=0.3, \n",
    "                                       random_state=seed,\n",
    "                                       stratify=train_validate[target])\n",
    "    return train, validate, test\n"
   ]
  },
  {
   "cell_type": "markdown",
   "id": "377cc4ed",
   "metadata": {},
   "source": [
    "Splitting data into train, validate and test"
   ]
  },
  {
   "cell_type": "code",
   "execution_count": 7,
   "id": "9325ba3d",
   "metadata": {},
   "outputs": [],
   "source": [
    "# create X & y version of train, where y is a series with just the target variable and X are all the features. \n",
    "\n",
    "X_train = train.drop(columns=['survived'])\n",
    "y_train = train.survived\n",
    "\n",
    "X_validate = validate.drop(columns=['survived'])\n",
    "y_validate = validate.survived\n",
    "\n",
    "X_test = test.drop(columns=['survived'])\n",
    "y_test = test.survived"
   ]
  },
  {
   "cell_type": "markdown",
   "id": "5be9527a",
   "metadata": {},
   "source": [
    "*Q: WHAT IS YOUR BASELINE PREDICTION?"
   ]
  },
  {
   "cell_type": "code",
   "execution_count": 8,
   "id": "a58a38ba",
   "metadata": {},
   "outputs": [
    {
     "data": {
      "text/plain": [
       "0    307\n",
       "1    191\n",
       "Name: survived, dtype: int64"
      ]
     },
     "execution_count": 8,
     "metadata": {},
     "output_type": "execute_result"
    }
   ],
   "source": [
    "#finding baseline\n",
    "train.survived.value_counts()"
   ]
  },
  {
   "cell_type": "markdown",
   "id": "63016eea",
   "metadata": {},
   "source": [
    " -  <b> Baseline variable == Not Survived </b>"
   ]
  },
  {
   "cell_type": "code",
   "execution_count": 9,
   "id": "871c0119",
   "metadata": {},
   "outputs": [
    {
     "data": {
      "text/plain": [
       "0.6164658634538153"
      ]
     },
     "execution_count": 9,
     "metadata": {},
     "output_type": "execute_result"
    }
   ],
   "source": [
    "train['baseline_prediction'] = 0\n",
    "baseline_accuracy = (train.baseline_prediction == train.survived).mean()\n",
    "baseline_accuracy"
   ]
  },
  {
   "cell_type": "markdown",
   "id": "21409730",
   "metadata": {},
   "source": [
    "### Exercise 2) <br> Fit the decision tree classifier to your training sample and transform (i.e. make predictions on the training sample)"
   ]
  },
  {
   "cell_type": "markdown",
   "id": "1827a641",
   "metadata": {},
   "source": [
    "- Creating the decision tree object :"
   ]
  },
  {
   "cell_type": "code",
   "execution_count": 10,
   "id": "2f31bfe7",
   "metadata": {},
   "outputs": [],
   "source": [
    "#creating that decision tree!\n",
    "\n",
    "clf = DecisionTreeClassifier(max_depth=2, random_state=123)"
   ]
  },
  {
   "cell_type": "markdown",
   "id": "fd40ad54",
   "metadata": {},
   "source": [
    "- Fit the model:"
   ]
  },
  {
   "cell_type": "code",
   "execution_count": 11,
   "id": "01b8306a",
   "metadata": {},
   "outputs": [],
   "source": [
    "# model.fit(X, y)\n",
    "clf = clf.fit(X_train, y_train)"
   ]
  },
  {
   "cell_type": "markdown",
   "id": "e38c3cad",
   "metadata": {},
   "source": [
    "- Visualize a decision tree"
   ]
  },
  {
   "cell_type": "code",
   "execution_count": 12,
   "id": "e8f8ac56",
   "metadata": {},
   "outputs": [
    {
     "data": {
      "text/plain": [
       "[Text(390.6, 317.09999999999997, 'sex_male <= 0.5\\ngini = 0.473\\nsamples = 498\\nvalue = [307, 191]\\nclass = 0'),\n",
       " Text(195.3, 190.26, 'pclass <= 2.5\\ngini = 0.365\\nsamples = 175\\nvalue = [42, 133]\\nclass = 1'),\n",
       " Text(97.65, 63.420000000000016, 'gini = 0.081\\nsamples = 94\\nvalue = [4, 90]\\nclass = 1'),\n",
       " Text(292.95000000000005, 63.420000000000016, 'gini = 0.498\\nsamples = 81\\nvalue = [38, 43]\\nclass = 1'),\n",
       " Text(585.9000000000001, 190.26, 'fare <= 18.275\\ngini = 0.295\\nsamples = 323\\nvalue = [265, 58]\\nclass = 0'),\n",
       " Text(488.25, 63.420000000000016, 'gini = 0.184\\nsamples = 205\\nvalue = [184, 21]\\nclass = 0'),\n",
       " Text(683.5500000000001, 63.420000000000016, 'gini = 0.43\\nsamples = 118\\nvalue = [81, 37]\\nclass = 0')]"
      ]
     },
     "execution_count": 12,
     "metadata": {},
     "output_type": "execute_result"
    },
    {
     "data": {
      "image/png": "[encoded data removed]",
      "text/plain": [
       "<Figure size 1008x504 with 1 Axes>"
      ]
     },
     "metadata": {
      "needs_background": "light"
     },
     "output_type": "display_data"
    }
   ],
   "source": [
    "plt.figure(figsize=(14, 7))\n",
    "plot_tree(clf, feature_names=X_train.columns, class_names=clf.classes_.astype(str), rounded=True)"
   ]
  },
  {
   "cell_type": "code",
   "execution_count": 13,
   "id": "477d9336",
   "metadata": {},
   "outputs": [
    {
     "data": {
      "text/plain": [
       "array([0, 0, 0, 1, 1])"
      ]
     },
     "execution_count": 13,
     "metadata": {},
     "output_type": "execute_result"
    }
   ],
   "source": [
    "### Make Predictions\n",
    "y_pred=clf.predict(X_train)\n",
    "y_pred[0:5]"
   ]
  },
  {
   "cell_type": "code",
   "execution_count": 14,
   "id": "23badb6d",
   "metadata": {},
   "outputs": [
    {
     "data": {
      "text/plain": [
       "array([[0.68644068, 0.31355932],\n",
       "       [0.68644068, 0.31355932],\n",
       "       [0.68644068, 0.31355932],\n",
       "       [0.04255319, 0.95744681],\n",
       "       [0.04255319, 0.95744681]])"
      ]
     },
     "execution_count": 14,
     "metadata": {},
     "output_type": "execute_result"
    }
   ],
   "source": [
    "### Estimate Probability\n",
    "y_pred_proba=clf.predict_proba(X_train)\n",
    "y_pred_proba[0:5]"
   ]
  },
  {
   "cell_type": "markdown",
   "id": "510168a9",
   "metadata": {},
   "source": [
    "### Exercise 3) <br> Evaluate your in-sample results using the model score, confusion matrix, and classification report."
   ]
  },
  {
   "cell_type": "markdown",
   "id": "63982575",
   "metadata": {},
   "source": [
    "- Evaluating the model with a Model Score"
   ]
  },
  {
   "cell_type": "code",
   "execution_count": 15,
   "id": "400810aa",
   "metadata": {},
   "outputs": [
    {
     "name": "stdout",
     "output_type": "stream",
     "text": [
      "Accuracy of Decision Tree classifier on titanic training set: 0.80\n"
     ]
    }
   ],
   "source": [
    "print('Accuracy of Decision Tree classifier on titanic training set: {:.2f}'\n",
    "      .format(clf.score(X_train, y_train)))"
   ]
  },
  {
   "cell_type": "markdown",
   "id": "8ab25432",
   "metadata": {},
   "source": [
    "- Evaluating the model with the Confusion Matrix"
   ]
  },
  {
   "cell_type": "code",
   "execution_count": 16,
   "id": "d5fcb18b",
   "metadata": {},
   "outputs": [
    {
     "data": {
      "text/plain": [
       "array([[265,  42],\n",
       "       [ 58, 133]])"
      ]
     },
     "execution_count": 16,
     "metadata": {},
     "output_type": "execute_result"
    }
   ],
   "source": [
    "# let's make a confusion matrix\n",
    "confusion_matrix(y_train, y_pred)"
   ]
  },
  {
   "cell_type": "code",
   "execution_count": 17,
   "id": "110ed417",
   "metadata": {},
   "outputs": [
    {
     "data": {
      "text/plain": [
       "0    307\n",
       "1    191\n",
       "Name: survived, dtype: int64"
      ]
     },
     "execution_count": 17,
     "metadata": {},
     "output_type": "execute_result"
    }
   ],
   "source": [
    "y_train.value_counts()"
   ]
  },
  {
   "cell_type": "code",
   "execution_count": 18,
   "id": "3ffa2890",
   "metadata": {},
   "outputs": [
    {
     "data": {
      "text/html": [
       "<div>\n",
       "<style scoped>\n",
       "    .dataframe tbody tr th:only-of-type {\n",
       "        vertical-align: middle;\n",
       "    }\n",
       "\n",
       "    .dataframe tbody tr th {\n",
       "        vertical-align: top;\n",
       "    }\n",
       "\n",
       "    .dataframe thead th {\n",
       "        text-align: right;\n",
       "    }\n",
       "</style>\n",
       "<table border=\"1\" class=\"dataframe\">\n",
       "  <thead>\n",
       "    <tr style=\"text-align: right;\">\n",
       "      <th></th>\n",
       "      <th>Not Survived 0</th>\n",
       "      <th>Survived 1</th>\n",
       "    </tr>\n",
       "  </thead>\n",
       "  <tbody>\n",
       "    <tr>\n",
       "      <th>Not Survived 0</th>\n",
       "      <td>265</td>\n",
       "      <td>42</td>\n",
       "    </tr>\n",
       "    <tr>\n",
       "      <th>Survived 1</th>\n",
       "      <td>58</td>\n",
       "      <td>133</td>\n",
       "    </tr>\n",
       "  </tbody>\n",
       "</table>\n",
       "</div>"
      ],
      "text/plain": [
       "                Not Survived 0  Survived 1\n",
       "Not Survived 0             265          42\n",
       "Survived 1                  58         133"
      ]
     },
     "execution_count": 18,
     "metadata": {},
     "output_type": "execute_result"
    }
   ],
   "source": [
    "import pandas as pd\n",
    "#creating a dataframe to see the matrix/needed to rename as variables were still 0 and 1\n",
    "labels = ('Not Survived 0', 'Survived 1')\n",
    "\n",
    "pd.DataFrame(confusion_matrix(y_train, y_pred), index=labels, columns=labels)"
   ]
  },
  {
   "cell_type": "markdown",
   "id": "9e1db152",
   "metadata": {},
   "source": [
    "- Evaluating with a classification report"
   ]
  },
  {
   "cell_type": "code",
   "execution_count": 19,
   "id": "8e2727b1",
   "metadata": {},
   "outputs": [
    {
     "name": "stdout",
     "output_type": "stream",
     "text": [
      "              precision    recall  f1-score   support\n",
      "\n",
      "           0       0.82      0.86      0.84       307\n",
      "           1       0.76      0.70      0.73       191\n",
      "\n",
      "    accuracy                           0.80       498\n",
      "   macro avg       0.79      0.78      0.78       498\n",
      "weighted avg       0.80      0.80      0.80       498\n",
      "\n"
     ]
    }
   ],
   "source": [
    "print(classification_report(y_train, y_pred))"
   ]
  },
  {
   "cell_type": "markdown",
   "id": "03208692",
   "metadata": {},
   "source": [
    "### Exercise 4) <br> Compute: Accuracy, true positive rate, false positive rate, true negative rate, false negative rate, precision, recall, f1-score, and support."
   ]
  },
  {
   "cell_type": "code",
   "execution_count": 20,
   "id": "2fd089f3",
   "metadata": {},
   "outputs": [],
   "source": [
    "TP = 265\n",
    "FP = 58\n",
    "FN = 42\n",
    "TN = 133\n",
    "ALL = TP + FP + FN + TN"
   ]
  },
  {
   "cell_type": "code",
   "execution_count": 21,
   "id": "92e5d5b5",
   "metadata": {},
   "outputs": [
    {
     "data": {
      "text/plain": [
       "0.8"
      ]
     },
     "execution_count": 21,
     "metadata": {},
     "output_type": "execute_result"
    }
   ],
   "source": [
    "#accuracy: shows in classification report above:\n",
    "0.80"
   ]
  },
  {
   "cell_type": "code",
   "execution_count": 22,
   "id": "ec369a77",
   "metadata": {},
   "outputs": [
    {
     "data": {
      "text/plain": [
       "0.8204334365325078"
      ]
     },
     "execution_count": 22,
     "metadata": {},
     "output_type": "execute_result"
    }
   ],
   "source": [
    "#True Positive rate: TP/(TP+FN)\n",
    "265/(265+58)"
   ]
  },
  {
   "cell_type": "code",
   "execution_count": 23,
   "id": "afe2a078",
   "metadata": {},
   "outputs": [
    {
     "data": {
      "text/plain": [
       "0.24"
      ]
     },
     "execution_count": 23,
     "metadata": {},
     "output_type": "execute_result"
    }
   ],
   "source": [
    "#False positive rate: FP/(FP+TN)\n",
    "42/(42+133)"
   ]
  },
  {
   "cell_type": "code",
   "execution_count": 24,
   "id": "1fa109d4",
   "metadata": {},
   "outputs": [],
   "source": [
    "#True negative rate: TN/(TN+)\n"
   ]
  },
  {
   "cell_type": "code",
   "execution_count": 25,
   "id": "7533d90a",
   "metadata": {},
   "outputs": [],
   "source": [
    "#False negative rate: FN/(FN+)"
   ]
  },
  {
   "cell_type": "code",
   "execution_count": 26,
   "id": "80fe1d04",
   "metadata": {},
   "outputs": [],
   "source": [
    "#Precision rate: "
   ]
  },
  {
   "cell_type": "code",
   "execution_count": 27,
   "id": "77e7205b",
   "metadata": {},
   "outputs": [],
   "source": [
    "#Recall rate:"
   ]
  },
  {
   "cell_type": "code",
   "execution_count": 28,
   "id": "37f00ef3",
   "metadata": {},
   "outputs": [],
   "source": [
    "#f1-score rate:"
   ]
  },
  {
   "cell_type": "code",
   "execution_count": 29,
   "id": "5c4a8953",
   "metadata": {},
   "outputs": [],
   "source": [
    "#support rate:"
   ]
  },
  {
   "cell_type": "markdown",
   "id": "0236d05e",
   "metadata": {},
   "source": [
    "### Exercise 5) <br> Run through steps 2-4 using a different max_depth value."
   ]
  },
  {
   "cell_type": "code",
   "execution_count": 30,
   "id": "f61ddd81",
   "metadata": {},
   "outputs": [],
   "source": [
    "#let's create a loop for this:"
   ]
  },
  {
   "cell_type": "code",
   "execution_count": 31,
   "id": "21dcece7",
   "metadata": {},
   "outputs": [
    {
     "name": "stdout",
     "output_type": "stream",
     "text": [
      "Accuracy of Decision Tree classifier on titanic training set: 0.84\n"
     ]
    }
   ],
   "source": [
    "clf1 = DecisionTreeClassifier(max_depth=4, random_state=123)\n",
    "clf1 = clf1.fit(X_train, y_train)\n",
    "print('Accuracy of Decision Tree classifier on titanic training set: {:.2f}'\n",
    "      .format(clf1.score(X_train, y_train)))"
   ]
  },
  {
   "cell_type": "code",
   "execution_count": 32,
   "id": "68d8d617",
   "metadata": {},
   "outputs": [
    {
     "name": "stdout",
     "output_type": "stream",
     "text": [
      "Accuracy of Decision Tree classifier on titanic training set: 0.90\n"
     ]
    }
   ],
   "source": [
    "clf2 = DecisionTreeClassifier(max_depth=8, random_state=123)\n",
    "clf2 = clf2.fit(X_train, y_train)\n",
    "print('Accuracy of Decision Tree classifier on titanic training set: {:.2f}'\n",
    "      .format(clf2.score(X_train, y_train)))"
   ]
  },
  {
   "cell_type": "markdown",
   "id": "fac00423",
   "metadata": {},
   "source": [
    "### Exercise 6) <br> Which model performs better on your in-sample data?"
   ]
  },
  {
   "cell_type": "code",
   "execution_count": 33,
   "id": "cbacc2e1",
   "metadata": {},
   "outputs": [
    {
     "name": "stdout",
     "output_type": "stream",
     "text": [
      "Model 1 Score: 0.8353413654618473\n",
      "Model 2 Score: 0.8975903614457831\n"
     ]
    }
   ],
   "source": [
    "model1_train_accuracy=clf1.score(X_train, y_train)\n",
    "model2_train_accuracy=clf2.score(X_train, y_train)\n",
    "\n",
    "print(\"Model 1 Score:\", model1_train_accuracy)\n",
    "print(\"Model 2 Score:\", model2_train_accuracy)"
   ]
  },
  {
   "cell_type": "markdown",
   "id": "76d61fef",
   "metadata": {},
   "source": [
    "### Exercise 7) Which model performs best on your out-of-sample data, the validate set?"
   ]
  },
  {
   "cell_type": "code",
   "execution_count": 34,
   "id": "ee2421ef",
   "metadata": {},
   "outputs": [
    {
     "name": "stdout",
     "output_type": "stream",
     "text": [
      "Accuracy of Decision Tree classifier on titanic training set: 0.83\n"
     ]
    }
   ],
   "source": [
    "clf1 = DecisionTreeClassifier(max_depth=3, random_state=123)\n",
    "clf1 = clf1.fit(X_validate, y_validate)\n",
    "print('Accuracy of Decision Tree classifier on titanic training set: {:.2f}'\n",
    "      .format(clf1.score(X_validate, y_validate)))"
   ]
  },
  {
   "cell_type": "code",
   "execution_count": 35,
   "id": "1562ad6d",
   "metadata": {},
   "outputs": [
    {
     "name": "stdout",
     "output_type": "stream",
     "text": [
      "Accuracy of Decision Tree classifier on titanic training set: 0.95\n"
     ]
    }
   ],
   "source": [
    "clf2 = DecisionTreeClassifier(max_depth=8, random_state=123)\n",
    "clf2 = clf2.fit(X_validate, y_validate)\n",
    "print('Accuracy of Decision Tree classifier on titanic training set: {:.2f}'\n",
    "      .format(clf2.score(X_validate, y_validate)))"
   ]
  },
  {
   "cell_type": "code",
   "execution_count": 36,
   "id": "0aaeaacc",
   "metadata": {},
   "outputs": [
    {
     "name": "stdout",
     "output_type": "stream",
     "text": [
      "Model 1 Score: 0.8317757009345794\n",
      "Model 2 Score: 0.9532710280373832\n"
     ]
    }
   ],
   "source": [
    "model1_validate_accuracy=clf1.score(X_validate, y_validate)\n",
    "model2_validate_accuracy=clf2.score(X_validate, y_validate)\n",
    "\n",
    "print(\"Model 1 Score:\", model1_validate_accuracy)\n",
    "print(\"Model 2 Score:\", model2_validate_accuracy)"
   ]
  },
  {
   "cell_type": "markdown",
   "id": "0c3db6c8",
   "metadata": {},
   "source": [
    "## Telco Data:"
   ]
  },
  {
   "cell_type": "code",
   "execution_count": 37,
   "id": "b1bbf1a2",
   "metadata": {},
   "outputs": [
    {
     "data": {
      "text/plain": [
       "customer_id                             0\n",
       "gender                                  0\n",
       "is_senior_citizen                       0\n",
       "partner                                 0\n",
       "dependents                              0\n",
       "phone_service                           0\n",
       "internet_service                        0\n",
       "contract_type                           0\n",
       "payment_type                            0\n",
       "monthly_charges                         0\n",
       "total_charges                           8\n",
       "churn                                   0\n",
       "tenure                                  0\n",
       "gender_Male                             0\n",
       "dependents_Yes                          0\n",
       "partner_Yes                             0\n",
       "contract_type_one_year                  0\n",
       "contract_type_two_years                 0\n",
       "payment_type_Credit card (automatic)    0\n",
       "payment_type_Electronic check           0\n",
       "payment_type_Mailed check               0\n",
       "dtype: int64"
      ]
     },
     "execution_count": 37,
     "metadata": {},
     "output_type": "execute_result"
    }
   ],
   "source": [
    "# applying this to Telco data:\n",
    "# read fresh telco data from acquire\n",
    "telco = acquire.google_sheets()\n",
    "# open up the t,v,t and push fresh data through prepare\n",
    "train, validate, test = prepare.prepare_telco_data(telco)\n",
    "train.isna().sum()#checking for nulls"
   ]
  },
  {
   "cell_type": "code",
   "execution_count": 38,
   "id": "a8303545",
   "metadata": {},
   "outputs": [],
   "source": [
    "#total_charges has some NaT s. Let's fill them with the mean()of total_charges:\n",
    "train['total_charges'] = train.total_charges.fillna(train.total_charges.mean())"
   ]
  },
  {
   "cell_type": "code",
   "execution_count": 39,
   "id": "df658e64",
   "metadata": {
    "scrolled": true
   },
   "outputs": [
    {
     "data": {
      "text/html": [
       "<div>\n",
       "<style scoped>\n",
       "    .dataframe tbody tr th:only-of-type {\n",
       "        vertical-align: middle;\n",
       "    }\n",
       "\n",
       "    .dataframe tbody tr th {\n",
       "        vertical-align: top;\n",
       "    }\n",
       "\n",
       "    .dataframe thead th {\n",
       "        text-align: right;\n",
       "    }\n",
       "</style>\n",
       "<table border=\"1\" class=\"dataframe\">\n",
       "  <thead>\n",
       "    <tr style=\"text-align: right;\">\n",
       "      <th></th>\n",
       "      <th>customer_id</th>\n",
       "      <th>gender</th>\n",
       "      <th>is_senior_citizen</th>\n",
       "      <th>partner</th>\n",
       "      <th>dependents</th>\n",
       "      <th>phone_service</th>\n",
       "      <th>internet_service</th>\n",
       "      <th>contract_type</th>\n",
       "      <th>payment_type</th>\n",
       "      <th>monthly_charges</th>\n",
       "      <th>...</th>\n",
       "      <th>churn</th>\n",
       "      <th>tenure</th>\n",
       "      <th>gender_Male</th>\n",
       "      <th>dependents_Yes</th>\n",
       "      <th>partner_Yes</th>\n",
       "      <th>contract_type_one_year</th>\n",
       "      <th>contract_type_two_years</th>\n",
       "      <th>payment_type_Credit card (automatic)</th>\n",
       "      <th>payment_type_Electronic check</th>\n",
       "      <th>payment_type_Mailed check</th>\n",
       "    </tr>\n",
       "  </thead>\n",
       "  <tbody>\n",
       "    <tr>\n",
       "      <th>5310</th>\n",
       "      <td>7503-MIOGA</td>\n",
       "      <td>Female</td>\n",
       "      <td>1</td>\n",
       "      <td>Yes</td>\n",
       "      <td>No</td>\n",
       "      <td>2</td>\n",
       "      <td>1</td>\n",
       "      <td>two_years</td>\n",
       "      <td>Bank transfer (automatic)</td>\n",
       "      <td>89.85</td>\n",
       "      <td>...</td>\n",
       "      <td>No</td>\n",
       "      <td>74.5</td>\n",
       "      <td>0</td>\n",
       "      <td>0</td>\n",
       "      <td>1</td>\n",
       "      <td>0</td>\n",
       "      <td>1</td>\n",
       "      <td>0</td>\n",
       "      <td>0</td>\n",
       "      <td>0</td>\n",
       "    </tr>\n",
       "    <tr>\n",
       "      <th>3790</th>\n",
       "      <td>5329-KRDTM</td>\n",
       "      <td>Male</td>\n",
       "      <td>1</td>\n",
       "      <td>Yes</td>\n",
       "      <td>No</td>\n",
       "      <td>2</td>\n",
       "      <td>1</td>\n",
       "      <td>two_years</td>\n",
       "      <td>Credit card (automatic)</td>\n",
       "      <td>77.35</td>\n",
       "      <td>...</td>\n",
       "      <td>No</td>\n",
       "      <td>69.8</td>\n",
       "      <td>1</td>\n",
       "      <td>0</td>\n",
       "      <td>1</td>\n",
       "      <td>0</td>\n",
       "      <td>1</td>\n",
       "      <td>1</td>\n",
       "      <td>0</td>\n",
       "      <td>0</td>\n",
       "    </tr>\n",
       "    <tr>\n",
       "      <th>4398</th>\n",
       "      <td>6199-IWKGC</td>\n",
       "      <td>Female</td>\n",
       "      <td>1</td>\n",
       "      <td>Yes</td>\n",
       "      <td>No</td>\n",
       "      <td>2</td>\n",
       "      <td>2</td>\n",
       "      <td>one_year</td>\n",
       "      <td>Electronic check</td>\n",
       "      <td>100.25</td>\n",
       "      <td>...</td>\n",
       "      <td>No</td>\n",
       "      <td>47.4</td>\n",
       "      <td>0</td>\n",
       "      <td>0</td>\n",
       "      <td>1</td>\n",
       "      <td>1</td>\n",
       "      <td>0</td>\n",
       "      <td>0</td>\n",
       "      <td>1</td>\n",
       "      <td>0</td>\n",
       "    </tr>\n",
       "    <tr>\n",
       "      <th>2635</th>\n",
       "      <td>3748-FVMZZ</td>\n",
       "      <td>Male</td>\n",
       "      <td>0</td>\n",
       "      <td>No</td>\n",
       "      <td>No</td>\n",
       "      <td>0</td>\n",
       "      <td>1</td>\n",
       "      <td>month_to_month</td>\n",
       "      <td>Electronic check</td>\n",
       "      <td>40.05</td>\n",
       "      <td>...</td>\n",
       "      <td>No</td>\n",
       "      <td>4.1</td>\n",
       "      <td>1</td>\n",
       "      <td>0</td>\n",
       "      <td>0</td>\n",
       "      <td>0</td>\n",
       "      <td>0</td>\n",
       "      <td>0</td>\n",
       "      <td>1</td>\n",
       "      <td>0</td>\n",
       "    </tr>\n",
       "    <tr>\n",
       "      <th>2986</th>\n",
       "      <td>4280-DLSHD</td>\n",
       "      <td>Male</td>\n",
       "      <td>0</td>\n",
       "      <td>Yes</td>\n",
       "      <td>No</td>\n",
       "      <td>1</td>\n",
       "      <td>1</td>\n",
       "      <td>month_to_month</td>\n",
       "      <td>Mailed check</td>\n",
       "      <td>54.75</td>\n",
       "      <td>...</td>\n",
       "      <td>No</td>\n",
       "      <td>8.1</td>\n",
       "      <td>1</td>\n",
       "      <td>0</td>\n",
       "      <td>1</td>\n",
       "      <td>0</td>\n",
       "      <td>0</td>\n",
       "      <td>0</td>\n",
       "      <td>0</td>\n",
       "      <td>1</td>\n",
       "    </tr>\n",
       "  </tbody>\n",
       "</table>\n",
       "<p>5 rows × 21 columns</p>\n",
       "</div>"
      ],
      "text/plain": [
       "     customer_id  gender  is_senior_citizen partner dependents  phone_service  \\\n",
       "5310  7503-MIOGA  Female                  1     Yes         No              2   \n",
       "3790  5329-KRDTM    Male                  1     Yes         No              2   \n",
       "4398  6199-IWKGC  Female                  1     Yes         No              2   \n",
       "2635  3748-FVMZZ    Male                  0      No         No              0   \n",
       "2986  4280-DLSHD    Male                  0     Yes         No              1   \n",
       "\n",
       "      internet_service   contract_type               payment_type  \\\n",
       "5310                 1       two_years  Bank transfer (automatic)   \n",
       "3790                 1       two_years    Credit card (automatic)   \n",
       "4398                 2        one_year           Electronic check   \n",
       "2635                 1  month_to_month           Electronic check   \n",
       "2986                 1  month_to_month               Mailed check   \n",
       "\n",
       "      monthly_charges  ...  churn tenure  gender_Male  dependents_Yes  \\\n",
       "5310            89.85  ...     No   74.5            0               0   \n",
       "3790            77.35  ...     No   69.8            1               0   \n",
       "4398           100.25  ...     No   47.4            0               0   \n",
       "2635            40.05  ...     No    4.1            1               0   \n",
       "2986            54.75  ...     No    8.1            1               0   \n",
       "\n",
       "      partner_Yes  contract_type_one_year  contract_type_two_years  \\\n",
       "5310            1                       0                        1   \n",
       "3790            1                       0                        1   \n",
       "4398            1                       1                        0   \n",
       "2635            0                       0                        0   \n",
       "2986            1                       0                        0   \n",
       "\n",
       "      payment_type_Credit card (automatic)  payment_type_Electronic check  \\\n",
       "5310                                     0                              0   \n",
       "3790                                     1                              0   \n",
       "4398                                     0                              1   \n",
       "2635                                     0                              1   \n",
       "2986                                     0                              0   \n",
       "\n",
       "      payment_type_Mailed check  \n",
       "5310                          0  \n",
       "3790                          0  \n",
       "4398                          0  \n",
       "2635                          0  \n",
       "2986                          1  \n",
       "\n",
       "[5 rows x 21 columns]"
      ]
     },
     "execution_count": 39,
     "metadata": {},
     "output_type": "execute_result"
    }
   ],
   "source": [
    "train.head()"
   ]
  },
  {
   "cell_type": "code",
   "execution_count": 40,
   "id": "e0a0eade",
   "metadata": {},
   "outputs": [],
   "source": [
    "#changing any yes/no to whole of dataframe\n",
    "train = train.replace({'Yes':1, 'No':0})"
   ]
  },
  {
   "cell_type": "code",
   "execution_count": 41,
   "id": "cff29680",
   "metadata": {},
   "outputs": [],
   "source": [
    "#hadn't added encoding yet to prepare file. \n",
    "train = train.drop(columns=['customer_id',])"
   ]
  },
  {
   "cell_type": "code",
   "execution_count": 42,
   "id": "7ae94b66",
   "metadata": {},
   "outputs": [],
   "source": [
    "#Let's encode gender, partner, dependents, contract_type, payment_type, churn\n"
   ]
  },
  {
   "cell_type": "code",
   "execution_count": 43,
   "id": "2df43da2",
   "metadata": {},
   "outputs": [
    {
     "data": {
      "text/html": [
       "<div>\n",
       "<style scoped>\n",
       "    .dataframe tbody tr th:only-of-type {\n",
       "        vertical-align: middle;\n",
       "    }\n",
       "\n",
       "    .dataframe tbody tr th {\n",
       "        vertical-align: top;\n",
       "    }\n",
       "\n",
       "    .dataframe thead th {\n",
       "        text-align: right;\n",
       "    }\n",
       "</style>\n",
       "<table border=\"1\" class=\"dataframe\">\n",
       "  <thead>\n",
       "    <tr style=\"text-align: right;\">\n",
       "      <th></th>\n",
       "      <th>gender</th>\n",
       "      <th>is_senior_citizen</th>\n",
       "      <th>partner</th>\n",
       "      <th>dependents</th>\n",
       "      <th>phone_service</th>\n",
       "      <th>internet_service</th>\n",
       "      <th>contract_type</th>\n",
       "      <th>payment_type</th>\n",
       "      <th>monthly_charges</th>\n",
       "      <th>total_charges</th>\n",
       "      <th>churn</th>\n",
       "      <th>tenure</th>\n",
       "      <th>gender_Male</th>\n",
       "      <th>dependents_Yes</th>\n",
       "      <th>partner_Yes</th>\n",
       "      <th>contract_type_one_year</th>\n",
       "      <th>contract_type_two_years</th>\n",
       "      <th>payment_type_Credit card (automatic)</th>\n",
       "      <th>payment_type_Electronic check</th>\n",
       "      <th>payment_type_Mailed check</th>\n",
       "    </tr>\n",
       "  </thead>\n",
       "  <tbody>\n",
       "    <tr>\n",
       "      <th>5310</th>\n",
       "      <td>Female</td>\n",
       "      <td>1</td>\n",
       "      <td>1</td>\n",
       "      <td>0</td>\n",
       "      <td>2</td>\n",
       "      <td>1</td>\n",
       "      <td>two_years</td>\n",
       "      <td>Bank transfer (automatic)</td>\n",
       "      <td>89.85</td>\n",
       "      <td>6697.35</td>\n",
       "      <td>0</td>\n",
       "      <td>74.5</td>\n",
       "      <td>0</td>\n",
       "      <td>0</td>\n",
       "      <td>1</td>\n",
       "      <td>0</td>\n",
       "      <td>1</td>\n",
       "      <td>0</td>\n",
       "      <td>0</td>\n",
       "      <td>0</td>\n",
       "    </tr>\n",
       "    <tr>\n",
       "      <th>3790</th>\n",
       "      <td>Male</td>\n",
       "      <td>1</td>\n",
       "      <td>1</td>\n",
       "      <td>0</td>\n",
       "      <td>2</td>\n",
       "      <td>1</td>\n",
       "      <td>two_years</td>\n",
       "      <td>Credit card (automatic)</td>\n",
       "      <td>77.35</td>\n",
       "      <td>5396.25</td>\n",
       "      <td>0</td>\n",
       "      <td>69.8</td>\n",
       "      <td>1</td>\n",
       "      <td>0</td>\n",
       "      <td>1</td>\n",
       "      <td>0</td>\n",
       "      <td>1</td>\n",
       "      <td>1</td>\n",
       "      <td>0</td>\n",
       "      <td>0</td>\n",
       "    </tr>\n",
       "    <tr>\n",
       "      <th>4398</th>\n",
       "      <td>Female</td>\n",
       "      <td>1</td>\n",
       "      <td>1</td>\n",
       "      <td>0</td>\n",
       "      <td>2</td>\n",
       "      <td>2</td>\n",
       "      <td>one_year</td>\n",
       "      <td>Electronic check</td>\n",
       "      <td>100.25</td>\n",
       "      <td>4753.85</td>\n",
       "      <td>0</td>\n",
       "      <td>47.4</td>\n",
       "      <td>0</td>\n",
       "      <td>0</td>\n",
       "      <td>1</td>\n",
       "      <td>1</td>\n",
       "      <td>0</td>\n",
       "      <td>0</td>\n",
       "      <td>1</td>\n",
       "      <td>0</td>\n",
       "    </tr>\n",
       "    <tr>\n",
       "      <th>2635</th>\n",
       "      <td>Male</td>\n",
       "      <td>0</td>\n",
       "      <td>0</td>\n",
       "      <td>0</td>\n",
       "      <td>0</td>\n",
       "      <td>1</td>\n",
       "      <td>month_to_month</td>\n",
       "      <td>Electronic check</td>\n",
       "      <td>40.05</td>\n",
       "      <td>162.45</td>\n",
       "      <td>0</td>\n",
       "      <td>4.1</td>\n",
       "      <td>1</td>\n",
       "      <td>0</td>\n",
       "      <td>0</td>\n",
       "      <td>0</td>\n",
       "      <td>0</td>\n",
       "      <td>0</td>\n",
       "      <td>1</td>\n",
       "      <td>0</td>\n",
       "    </tr>\n",
       "    <tr>\n",
       "      <th>2986</th>\n",
       "      <td>Male</td>\n",
       "      <td>0</td>\n",
       "      <td>1</td>\n",
       "      <td>0</td>\n",
       "      <td>1</td>\n",
       "      <td>1</td>\n",
       "      <td>month_to_month</td>\n",
       "      <td>Mailed check</td>\n",
       "      <td>54.75</td>\n",
       "      <td>445.85</td>\n",
       "      <td>0</td>\n",
       "      <td>8.1</td>\n",
       "      <td>1</td>\n",
       "      <td>0</td>\n",
       "      <td>1</td>\n",
       "      <td>0</td>\n",
       "      <td>0</td>\n",
       "      <td>0</td>\n",
       "      <td>0</td>\n",
       "      <td>1</td>\n",
       "    </tr>\n",
       "  </tbody>\n",
       "</table>\n",
       "</div>"
      ],
      "text/plain": [
       "      gender  is_senior_citizen  partner  dependents  phone_service  \\\n",
       "5310  Female                  1        1           0              2   \n",
       "3790    Male                  1        1           0              2   \n",
       "4398  Female                  1        1           0              2   \n",
       "2635    Male                  0        0           0              0   \n",
       "2986    Male                  0        1           0              1   \n",
       "\n",
       "      internet_service   contract_type               payment_type  \\\n",
       "5310                 1       two_years  Bank transfer (automatic)   \n",
       "3790                 1       two_years    Credit card (automatic)   \n",
       "4398                 2        one_year           Electronic check   \n",
       "2635                 1  month_to_month           Electronic check   \n",
       "2986                 1  month_to_month               Mailed check   \n",
       "\n",
       "      monthly_charges  total_charges  churn  tenure  gender_Male  \\\n",
       "5310            89.85        6697.35      0    74.5            0   \n",
       "3790            77.35        5396.25      0    69.8            1   \n",
       "4398           100.25        4753.85      0    47.4            0   \n",
       "2635            40.05         162.45      0     4.1            1   \n",
       "2986            54.75         445.85      0     8.1            1   \n",
       "\n",
       "      dependents_Yes  partner_Yes  contract_type_one_year  \\\n",
       "5310               0            1                       0   \n",
       "3790               0            1                       0   \n",
       "4398               0            1                       1   \n",
       "2635               0            0                       0   \n",
       "2986               0            1                       0   \n",
       "\n",
       "      contract_type_two_years  payment_type_Credit card (automatic)  \\\n",
       "5310                        1                                     0   \n",
       "3790                        1                                     1   \n",
       "4398                        0                                     0   \n",
       "2635                        0                                     0   \n",
       "2986                        0                                     0   \n",
       "\n",
       "      payment_type_Electronic check  payment_type_Mailed check  \n",
       "5310                              0                          0  \n",
       "3790                              0                          0  \n",
       "4398                              1                          0  \n",
       "2635                              1                          0  \n",
       "2986                              0                          1  "
      ]
     },
     "execution_count": 43,
     "metadata": {},
     "output_type": "execute_result"
    }
   ],
   "source": [
    "train.head()"
   ]
  },
  {
   "cell_type": "markdown",
   "id": "22d5e2af",
   "metadata": {},
   "source": [
    "# Random Forest Exercises\n",
    "\n",
    "### Exercise 1)\n",
    "Fit the Random Forest classifier to your training sample and transform (i.e. make predictions on the training sample) setting the random_state accordingly and setting min_samples_leaf = 1 and max_depth = 10."
   ]
  },
  {
   "cell_type": "markdown",
   "id": "a9689d27",
   "metadata": {},
   "source": [
    "- Setting up data"
   ]
  },
  {
   "cell_type": "code",
   "execution_count": 44,
   "id": "ad01af4b",
   "metadata": {},
   "outputs": [],
   "source": [
    "from sklearn.ensemble import RandomForestClassifier"
   ]
  },
  {
   "cell_type": "code",
   "execution_count": 45,
   "id": "40b9f69c",
   "metadata": {},
   "outputs": [
    {
     "data": {
      "text/html": [
       "<div>\n",
       "<style scoped>\n",
       "    .dataframe tbody tr th:only-of-type {\n",
       "        vertical-align: middle;\n",
       "    }\n",
       "\n",
       "    .dataframe tbody tr th {\n",
       "        vertical-align: top;\n",
       "    }\n",
       "\n",
       "    .dataframe thead th {\n",
       "        text-align: right;\n",
       "    }\n",
       "</style>\n",
       "<table border=\"1\" class=\"dataframe\">\n",
       "  <thead>\n",
       "    <tr style=\"text-align: right;\">\n",
       "      <th></th>\n",
       "      <th>survived</th>\n",
       "      <th>pclass</th>\n",
       "      <th>sex</th>\n",
       "      <th>age</th>\n",
       "      <th>sibsp</th>\n",
       "      <th>parch</th>\n",
       "      <th>fare</th>\n",
       "      <th>embark_town</th>\n",
       "      <th>alone</th>\n",
       "      <th>pclass</th>\n",
       "      <th>sibsp</th>\n",
       "      <th>parch</th>\n",
       "      <th>alone</th>\n",
       "      <th>sex_male</th>\n",
       "      <th>embark_town_Queenstown</th>\n",
       "      <th>embark_town_Southampton</th>\n",
       "      <th>embark_town_Southhampton</th>\n",
       "    </tr>\n",
       "  </thead>\n",
       "  <tbody>\n",
       "    <tr>\n",
       "      <th>583</th>\n",
       "      <td>0</td>\n",
       "      <td>1</td>\n",
       "      <td>male</td>\n",
       "      <td>36.000000</td>\n",
       "      <td>0</td>\n",
       "      <td>0</td>\n",
       "      <td>40.1250</td>\n",
       "      <td>Cherbourg</td>\n",
       "      <td>1</td>\n",
       "      <td>1</td>\n",
       "      <td>0</td>\n",
       "      <td>0</td>\n",
       "      <td>1</td>\n",
       "      <td>1</td>\n",
       "      <td>0</td>\n",
       "      <td>0</td>\n",
       "      <td>0</td>\n",
       "    </tr>\n",
       "    <tr>\n",
       "      <th>165</th>\n",
       "      <td>1</td>\n",
       "      <td>3</td>\n",
       "      <td>male</td>\n",
       "      <td>9.000000</td>\n",
       "      <td>0</td>\n",
       "      <td>2</td>\n",
       "      <td>20.5250</td>\n",
       "      <td>Southampton</td>\n",
       "      <td>0</td>\n",
       "      <td>3</td>\n",
       "      <td>0</td>\n",
       "      <td>2</td>\n",
       "      <td>0</td>\n",
       "      <td>1</td>\n",
       "      <td>0</td>\n",
       "      <td>1</td>\n",
       "      <td>0</td>\n",
       "    </tr>\n",
       "    <tr>\n",
       "      <th>50</th>\n",
       "      <td>0</td>\n",
       "      <td>3</td>\n",
       "      <td>male</td>\n",
       "      <td>7.000000</td>\n",
       "      <td>4</td>\n",
       "      <td>1</td>\n",
       "      <td>39.6875</td>\n",
       "      <td>Southampton</td>\n",
       "      <td>0</td>\n",
       "      <td>3</td>\n",
       "      <td>4</td>\n",
       "      <td>1</td>\n",
       "      <td>0</td>\n",
       "      <td>1</td>\n",
       "      <td>0</td>\n",
       "      <td>1</td>\n",
       "      <td>0</td>\n",
       "    </tr>\n",
       "    <tr>\n",
       "      <th>259</th>\n",
       "      <td>1</td>\n",
       "      <td>2</td>\n",
       "      <td>female</td>\n",
       "      <td>50.000000</td>\n",
       "      <td>0</td>\n",
       "      <td>1</td>\n",
       "      <td>26.0000</td>\n",
       "      <td>Southampton</td>\n",
       "      <td>0</td>\n",
       "      <td>2</td>\n",
       "      <td>0</td>\n",
       "      <td>1</td>\n",
       "      <td>0</td>\n",
       "      <td>0</td>\n",
       "      <td>0</td>\n",
       "      <td>1</td>\n",
       "      <td>0</td>\n",
       "    </tr>\n",
       "    <tr>\n",
       "      <th>306</th>\n",
       "      <td>1</td>\n",
       "      <td>1</td>\n",
       "      <td>female</td>\n",
       "      <td>29.699118</td>\n",
       "      <td>0</td>\n",
       "      <td>0</td>\n",
       "      <td>110.8833</td>\n",
       "      <td>Cherbourg</td>\n",
       "      <td>1</td>\n",
       "      <td>1</td>\n",
       "      <td>0</td>\n",
       "      <td>0</td>\n",
       "      <td>1</td>\n",
       "      <td>0</td>\n",
       "      <td>0</td>\n",
       "      <td>0</td>\n",
       "      <td>0</td>\n",
       "    </tr>\n",
       "  </tbody>\n",
       "</table>\n",
       "</div>"
      ],
      "text/plain": [
       "     survived  pclass     sex        age  sibsp  parch      fare  embark_town  \\\n",
       "583         0       1    male  36.000000      0      0   40.1250    Cherbourg   \n",
       "165         1       3    male   9.000000      0      2   20.5250  Southampton   \n",
       "50          0       3    male   7.000000      4      1   39.6875  Southampton   \n",
       "259         1       2  female  50.000000      0      1   26.0000  Southampton   \n",
       "306         1       1  female  29.699118      0      0  110.8833    Cherbourg   \n",
       "\n",
       "     alone  pclass  sibsp  parch  alone  sex_male  embark_town_Queenstown  \\\n",
       "583      1       1      0      0      1         1                       0   \n",
       "165      0       3      0      2      0         1                       0   \n",
       "50       0       3      4      1      0         1                       0   \n",
       "259      0       2      0      1      0         0                       0   \n",
       "306      1       1      0      0      1         0                       0   \n",
       "\n",
       "     embark_town_Southampton  embark_town_Southhampton  \n",
       "583                        0                         0  \n",
       "165                        1                         0  \n",
       "50                         1                         0  \n",
       "259                        1                         0  \n",
       "306                        0                         0  "
      ]
     },
     "execution_count": 45,
     "metadata": {},
     "output_type": "execute_result"
    }
   ],
   "source": [
    "# read titanic data from pydatset\n",
    "titanic = acquire.new_titanic_data()\n",
    "#split the data into train, validate, test\n",
    "train, validate, test =prepare.prepare_titanic_data(titanic)\n",
    "train.head()"
   ]
  },
  {
   "cell_type": "code",
   "execution_count": 46,
   "id": "c2322c3f",
   "metadata": {},
   "outputs": [],
   "source": [
    "#dropping categorical\n",
    "train = train.drop(columns=['sex', 'embark_town'])\n",
    "validate = validate.drop(columns=['sex', 'embark_town'])\n",
    "test = test.drop(columns=['sex', 'embark_town'])"
   ]
  },
  {
   "cell_type": "markdown",
   "id": "2939f08f",
   "metadata": {},
   "source": [
    "- Separating data to get apply Random Forest using 'survived' as target"
   ]
  },
  {
   "cell_type": "code",
   "execution_count": 47,
   "id": "2f780770",
   "metadata": {},
   "outputs": [
    {
     "data": {
      "text/plain": [
       "((498, 14), (214, 14), (179, 14))"
      ]
     },
     "execution_count": 47,
     "metadata": {},
     "output_type": "execute_result"
    }
   ],
   "source": [
    "# create X & y version of train, where y is a series with just the target variable and X are all the features. \n",
    "X_train = train.drop(columns=['survived'])\n",
    "y_train = train.survived\n",
    "\n",
    "X_validate = validate.drop(columns=['survived'])\n",
    "y_validate = validate.survived\n",
    "\n",
    "X_test = test.drop(columns=['survived'])\n",
    "y_test = test.survived\n",
    "\n",
    "X_train.shape, X_validate.shape, X_test.shape"
   ]
  },
  {
   "cell_type": "markdown",
   "id": "f47134d2",
   "metadata": {},
   "source": [
    "- Creating a Bootstrap version of data with random samples to add in data set"
   ]
  },
  {
   "cell_type": "code",
   "execution_count": 48,
   "id": "1792753f",
   "metadata": {},
   "outputs": [
    {
     "data": {
      "text/plain": [
       "RandomForestClassifier(max_depth=10, random_state=123)"
      ]
     },
     "execution_count": 48,
     "metadata": {},
     "output_type": "execute_result"
    }
   ],
   "source": [
    "#create the model and set max depth 10 with random_state general\n",
    "rf = RandomForestClassifier(bootstrap=True, \n",
    "                            class_weight=None, \n",
    "                            criterion='gini',\n",
    "                            min_samples_leaf=1,\n",
    "                            n_estimators=100,\n",
    "                            max_depth=10, \n",
    "                            random_state=123)\n",
    "rf"
   ]
  },
  {
   "cell_type": "markdown",
   "id": "6ffd8a33",
   "metadata": {},
   "source": [
    "- Fitting the RF bootstrap into the training data"
   ]
  },
  {
   "cell_type": "code",
   "execution_count": 49,
   "id": "3c382f63",
   "metadata": {},
   "outputs": [
    {
     "data": {
      "text/plain": [
       "RandomForestClassifier(max_depth=10, random_state=123)"
      ]
     },
     "execution_count": 49,
     "metadata": {},
     "output_type": "execute_result"
    }
   ],
   "source": [
    "#fit the random forest algorithm into training data\n",
    "rf.fit(X_train, y_train)"
   ]
  },
  {
   "cell_type": "code",
   "execution_count": 50,
   "id": "298acfd9",
   "metadata": {},
   "outputs": [
    {
     "name": "stdout",
     "output_type": "stream",
     "text": [
      "Accuracy of Random Forest classifier on titanic training set: 0.97\n"
     ]
    }
   ],
   "source": [
    "clf = RandomForestClassifier(max_depth=10, random_state=123)\n",
    "clf = clf.fit(X_train, y_train)\n",
    "print('Accuracy of Random Forest classifier on titanic training set: {:.2f}'\n",
    "      .format(clf.score(X_train, y_train)))"
   ]
  },
  {
   "cell_type": "code",
   "execution_count": 51,
   "id": "bcf1e687",
   "metadata": {},
   "outputs": [
    {
     "name": "stdout",
     "output_type": "stream",
     "text": [
      "[0.04910359 0.20879458 0.03014638 0.01982673 0.23785936 0.01097164\n",
      " 0.05353124 0.03200334 0.02154846 0.01445995 0.28157762 0.01474419\n",
      " 0.02480507 0.00062783]\n"
     ]
    }
   ],
   "source": [
    "#finding importance of features (higher number -> the more important/has weight to the data)\n",
    "print(rf.feature_importances_)"
   ]
  },
  {
   "cell_type": "markdown",
   "id": "31302ac1",
   "metadata": {},
   "source": [
    "- Checking out the statistical features"
   ]
  },
  {
   "cell_type": "code",
   "execution_count": 52,
   "id": "eb27c8ac",
   "metadata": {},
   "outputs": [
    {
     "name": "stdout",
     "output_type": "stream",
     "text": [
      "Features:\n",
      "pclass:0.04910359\n",
      "age:0.20879458\n",
      "sibsp:0.03014638\n",
      "parch:0.01982673\n",
      "fare:0.23785936\n",
      "alone:0.01097164\n",
      "sex:0.28157762\n"
     ]
    }
   ],
   "source": [
    "print('Features:')\n",
    "print('pclass:0.04910359')\n",
    "print('age:0.20879458')\n",
    "print('sibsp:0.03014638')\n",
    "print('parch:0.01982673')\n",
    "print('fare:0.23785936')\n",
    "print('alone:0.01097164')\n",
    "print('sex:0.28157762')"
   ]
  },
  {
   "cell_type": "markdown",
   "id": "5c83ba83",
   "metadata": {},
   "source": [
    "#### TAKE-AWAYS:\n",
    "Age, Fare, and Sex hold the most weight when it comes to training the model to predict our baseline (who would not survive)"
   ]
  },
  {
   "cell_type": "markdown",
   "id": "047d6b35",
   "metadata": {},
   "source": [
    "- Making predictions:"
   ]
  },
  {
   "cell_type": "code",
   "execution_count": 53,
   "id": "67235e69",
   "metadata": {},
   "outputs": [],
   "source": [
    "#predicting classifier for each survived/not survived probability\n",
    "y_pred = rf.predict(X_train)"
   ]
  },
  {
   "cell_type": "code",
   "execution_count": 54,
   "id": "deb48ce9",
   "metadata": {},
   "outputs": [
    {
     "data": {
      "text/plain": [
       "array([[0.77147863, 0.22852137],\n",
       "       [0.24844444, 0.75155556],\n",
       "       [0.955     , 0.045     ],\n",
       "       [0.07509615, 0.92490385],\n",
       "       [0.02421053, 0.97578947],\n",
       "       [0.83387922, 0.16612078],\n",
       "       [0.83519934, 0.16480066],\n",
       "       [0.9358506 , 0.0641494 ],\n",
       "       [0.94987425, 0.05012575],\n",
       "       [1.        , 0.        ],\n",
       "       [0.74583263, 0.25416737],\n",
       "       [0.92039078, 0.07960922],\n",
       "       [0.04842949, 0.95157051],\n",
       "       [0.6597301 , 0.3402699 ],\n",
       "       [0.87476171, 0.12523829],\n",
       "       [0.62432049, 0.37567951],\n",
       "       [0.95483317, 0.04516683],\n",
       "       [0.05185027, 0.94814973],\n",
       "       [0.6555221 , 0.3444779 ],\n",
       "       [0.84153297, 0.15846703],\n",
       "       [0.16420238, 0.83579762],\n",
       "       [0.96362825, 0.03637175],\n",
       "       [0.03142857, 0.96857143],\n",
       "       [0.03704451, 0.96295549],\n",
       "       [0.55270856, 0.44729144],\n",
       "       [0.97499244, 0.02500756],\n",
       "       [0.04625   , 0.95375   ],\n",
       "       [0.76871053, 0.23128947],\n",
       "       [0.73525161, 0.26474839],\n",
       "       [0.93376286, 0.06623714],\n",
       "       [0.9599409 , 0.0400591 ],\n",
       "       [0.97694866, 0.02305134],\n",
       "       [0.97597836, 0.02402164],\n",
       "       [0.14149154, 0.85850846],\n",
       "       [0.04636612, 0.95363388],\n",
       "       [0.48446254, 0.51553746],\n",
       "       [0.82931216, 0.17068784],\n",
       "       [0.01      , 0.99      ],\n",
       "       [0.93556656, 0.06443344],\n",
       "       [0.1260119 , 0.8739881 ],\n",
       "       [0.90357794, 0.09642206],\n",
       "       [0.96155843, 0.03844157],\n",
       "       [0.74145833, 0.25854167],\n",
       "       [0.09309524, 0.90690476],\n",
       "       [0.58201238, 0.41798762],\n",
       "       [0.97547959, 0.02452041],\n",
       "       [0.94987425, 0.05012575],\n",
       "       [0.96663081, 0.03336919],\n",
       "       [0.03482249, 0.96517751],\n",
       "       [0.87471444, 0.12528556],\n",
       "       [0.93722356, 0.06277644],\n",
       "       [0.9400073 , 0.0599927 ],\n",
       "       [0.02142857, 0.97857143],\n",
       "       [0.02366667, 0.97633333],\n",
       "       [0.8177043 , 0.1822957 ],\n",
       "       [0.14452381, 0.85547619],\n",
       "       [0.95419308, 0.04580692],\n",
       "       [0.03979522, 0.96020478],\n",
       "       [0.30698333, 0.69301667],\n",
       "       [0.93367573, 0.06632427],\n",
       "       [0.83425   , 0.16575   ],\n",
       "       [0.98421323, 0.01578677],\n",
       "       [0.97689447, 0.02310553],\n",
       "       [0.80781216, 0.19218784],\n",
       "       [0.87224765, 0.12775235],\n",
       "       [0.94987425, 0.05012575],\n",
       "       [0.47370113, 0.52629887],\n",
       "       [0.92837115, 0.07162885],\n",
       "       [0.3175    , 0.6825    ],\n",
       "       [0.03979853, 0.96020147],\n",
       "       [0.94      , 0.06      ],\n",
       "       [0.96416249, 0.03583751],\n",
       "       [0.0364881 , 0.9635119 ],\n",
       "       [0.29228734, 0.70771266],\n",
       "       [0.94987425, 0.05012575],\n",
       "       [0.87543414, 0.12456586],\n",
       "       [0.96279888, 0.03720112],\n",
       "       [0.93454064, 0.06545936],\n",
       "       [0.96867983, 0.03132017],\n",
       "       [0.32833333, 0.67166667],\n",
       "       [0.87947508, 0.12052492],\n",
       "       [0.01421053, 0.98578947],\n",
       "       [0.94599702, 0.05400298],\n",
       "       [0.88419076, 0.11580924],\n",
       "       [0.91067983, 0.08932017],\n",
       "       [0.89285714, 0.10714286],\n",
       "       [0.01037719, 0.98962281],\n",
       "       [0.14666667, 0.85333333],\n",
       "       [0.1339697 , 0.8660303 ],\n",
       "       [0.93454064, 0.06545936],\n",
       "       [0.92823838, 0.07176162],\n",
       "       [0.94987425, 0.05012575],\n",
       "       [0.1942152 , 0.8057848 ],\n",
       "       [0.04142857, 0.95857143],\n",
       "       [0.74044121, 0.25955879],\n",
       "       [0.96325788, 0.03674212],\n",
       "       [0.00671053, 0.99328947],\n",
       "       [0.86031525, 0.13968475],\n",
       "       [0.86667379, 0.13332621],\n",
       "       [0.02      , 0.98      ],\n",
       "       [0.94237414, 0.05762586],\n",
       "       [0.81549603, 0.18450397],\n",
       "       [0.03125   , 0.96875   ],\n",
       "       [0.94723398, 0.05276602],\n",
       "       [0.61142857, 0.38857143],\n",
       "       [0.00704451, 0.99295549],\n",
       "       [0.86819444, 0.13180556],\n",
       "       [0.034     , 0.966     ],\n",
       "       [0.96435163, 0.03564837],\n",
       "       [0.98178086, 0.01821914],\n",
       "       [0.13668523, 0.86331477],\n",
       "       [0.18579238, 0.81420762],\n",
       "       [0.86879456, 0.13120544],\n",
       "       [0.9666957 , 0.0333043 ],\n",
       "       [0.64326667, 0.35673333],\n",
       "       [0.02934524, 0.97065476],\n",
       "       [1.        , 0.        ],\n",
       "       [0.94952898, 0.05047102],\n",
       "       [0.04083333, 0.95916667],\n",
       "       [0.04333333, 0.95666667],\n",
       "       [0.83958097, 0.16041903],\n",
       "       [0.97586696, 0.02413304],\n",
       "       [0.79111123, 0.20888877],\n",
       "       [0.77146359, 0.22853641],\n",
       "       [0.14608333, 0.85391667],\n",
       "       [0.12317857, 0.87682143],\n",
       "       [0.03333333, 0.96666667],\n",
       "       [0.73451082, 0.26548918],\n",
       "       [0.45241667, 0.54758333],\n",
       "       [0.89      , 0.11      ],\n",
       "       [0.05185027, 0.94814973],\n",
       "       [0.95681089, 0.04318911],\n",
       "       [0.98      , 0.02      ],\n",
       "       [0.13002289, 0.86997711],\n",
       "       [0.92534586, 0.07465414],\n",
       "       [0.9605369 , 0.0394631 ],\n",
       "       [0.8963601 , 0.1036399 ],\n",
       "       [0.95483317, 0.04516683],\n",
       "       [0.81758333, 0.18241667],\n",
       "       [0.72545239, 0.27454761],\n",
       "       [0.02559524, 0.97440476],\n",
       "       [0.90388889, 0.09611111],\n",
       "       [0.8385761 , 0.1614239 ],\n",
       "       [0.97415983, 0.02584017],\n",
       "       [0.13904762, 0.86095238],\n",
       "       [0.20303946, 0.79696054],\n",
       "       [0.00478261, 0.99521739],\n",
       "       [0.06761905, 0.93238095],\n",
       "       [0.06      , 0.94      ],\n",
       "       [0.04      , 0.96      ],\n",
       "       [0.98421323, 0.01578677],\n",
       "       [0.03386905, 0.96613095],\n",
       "       [0.22871053, 0.77128947],\n",
       "       [0.9700646 , 0.0299354 ],\n",
       "       [0.70262376, 0.29737624],\n",
       "       [0.16697219, 0.83302781],\n",
       "       [0.97317065, 0.02682935],\n",
       "       [0.97115091, 0.02884909],\n",
       "       [0.17475758, 0.82524242],\n",
       "       [0.8958213 , 0.1041787 ],\n",
       "       [0.87198744, 0.12801256],\n",
       "       [0.05158835, 0.94841165],\n",
       "       [0.91330093, 0.08669907],\n",
       "       [0.13738095, 0.86261905],\n",
       "       [0.9674249 , 0.0325751 ],\n",
       "       [0.98705351, 0.01294649],\n",
       "       [0.89      , 0.11      ],\n",
       "       [0.93952898, 0.06047102],\n",
       "       [0.90367519, 0.09632481],\n",
       "       [0.93138175, 0.06861825],\n",
       "       [0.94650442, 0.05349558],\n",
       "       [0.01671053, 0.98328947],\n",
       "       [0.17475758, 0.82524242],\n",
       "       [0.91078314, 0.08921686],\n",
       "       [0.76799474, 0.23200526],\n",
       "       [0.93716325, 0.06283675],\n",
       "       [0.01      , 0.99      ],\n",
       "       [0.88291787, 0.11708213],\n",
       "       [0.967     , 0.033     ],\n",
       "       [0.39361188, 0.60638812],\n",
       "       [0.91833211, 0.08166789],\n",
       "       [0.96416249, 0.03583751],\n",
       "       [0.97189726, 0.02810274],\n",
       "       [0.01478261, 0.98521739],\n",
       "       [0.98178086, 0.01821914],\n",
       "       [0.0224336 , 0.9775664 ],\n",
       "       [0.94696187, 0.05303813],\n",
       "       [0.04333333, 0.95666667],\n",
       "       [0.77494118, 0.22505882],\n",
       "       [0.47271414, 0.52728586],\n",
       "       [0.94707437, 0.05292563],\n",
       "       [0.02621118, 0.97378882],\n",
       "       [0.92317209, 0.07682791],\n",
       "       [0.93516564, 0.06483436],\n",
       "       [0.01142857, 0.98857143],\n",
       "       [0.26810784, 0.73189216],\n",
       "       [0.88287879, 0.11712121],\n",
       "       [0.45007678, 0.54992322],\n",
       "       [0.9086418 , 0.0913582 ],\n",
       "       [0.92401735, 0.07598265],\n",
       "       [1.        , 0.        ],\n",
       "       [0.08      , 0.92      ],\n",
       "       [0.06671053, 0.93328947],\n",
       "       [0.92131532, 0.07868468],\n",
       "       [0.89705159, 0.10294841],\n",
       "       [0.94896862, 0.05103138],\n",
       "       [0.89438795, 0.10561205],\n",
       "       [0.92859633, 0.07140367],\n",
       "       [0.95483317, 0.04516683],\n",
       "       [0.18866667, 0.81133333],\n",
       "       [0.75932342, 0.24067658],\n",
       "       [0.96416249, 0.03583751],\n",
       "       [0.83778173, 0.16221827],\n",
       "       [0.38058874, 0.61941126],\n",
       "       [0.00142857, 0.99857143],\n",
       "       [0.12668523, 0.87331477],\n",
       "       [0.97067983, 0.02932017],\n",
       "       [0.98273126, 0.01726874],\n",
       "       [0.16010806, 0.83989194],\n",
       "       [0.96454366, 0.03545634],\n",
       "       [0.76404692, 0.23595308],\n",
       "       [0.95483317, 0.04516683],\n",
       "       [0.87959249, 0.12040751],\n",
       "       [0.01142857, 0.98857143],\n",
       "       [0.97441704, 0.02558296],\n",
       "       [0.91517532, 0.08482468],\n",
       "       [0.75213194, 0.24786806],\n",
       "       [0.57563431, 0.42436569],\n",
       "       [0.96442175, 0.03557825],\n",
       "       [0.17384206, 0.82615794],\n",
       "       [0.84671138, 0.15328862],\n",
       "       [0.90723035, 0.09276965],\n",
       "       [0.98178086, 0.01821914],\n",
       "       [0.93655323, 0.06344677],\n",
       "       [0.92401735, 0.07598265],\n",
       "       [0.05985806, 0.94014194],\n",
       "       [0.15845238, 0.84154762],\n",
       "       [0.97689447, 0.02310553],\n",
       "       [0.9756352 , 0.0243648 ],\n",
       "       [0.988125  , 0.011875  ],\n",
       "       [0.92317209, 0.07682791],\n",
       "       [0.90418293, 0.09581707],\n",
       "       [0.1104881 , 0.8895119 ],\n",
       "       [0.58240395, 0.41759605],\n",
       "       [0.035     , 0.965     ],\n",
       "       [0.97334315, 0.02665685],\n",
       "       [0.01      , 0.99      ],\n",
       "       [0.94378448, 0.05621552],\n",
       "       [0.75608143, 0.24391857],\n",
       "       [0.08708333, 0.91291667],\n",
       "       [0.82475565, 0.17524435],\n",
       "       [0.84822508, 0.15177492],\n",
       "       [0.97091135, 0.02908865],\n",
       "       [0.23774609, 0.76225391],\n",
       "       [0.91808081, 0.08191919],\n",
       "       [0.26397549, 0.73602451],\n",
       "       [0.60485784, 0.39514216],\n",
       "       [0.02      , 0.98      ],\n",
       "       [0.        , 1.        ],\n",
       "       [0.27703501, 0.72296499],\n",
       "       [0.75862865, 0.24137135],\n",
       "       [0.91257692, 0.08742308],\n",
       "       [0.03482249, 0.96517751],\n",
       "       [0.08      , 0.92      ],\n",
       "       [0.93138175, 0.06861825],\n",
       "       [0.89009128, 0.10990872],\n",
       "       [0.85563025, 0.14436975],\n",
       "       [0.34841011, 0.65158989],\n",
       "       [0.96435163, 0.03564837],\n",
       "       [0.81434454, 0.18565546],\n",
       "       [0.93211111, 0.06788889],\n",
       "       [0.76504654, 0.23495346],\n",
       "       [0.96422632, 0.03577368],\n",
       "       [0.01      , 0.99      ],\n",
       "       [1.        , 0.        ],\n",
       "       [0.95547959, 0.04452041],\n",
       "       [0.94387023, 0.05612977],\n",
       "       [0.95483317, 0.04516683],\n",
       "       [0.95483317, 0.04516683],\n",
       "       [0.96413836, 0.03586164],\n",
       "       [0.96413836, 0.03586164],\n",
       "       [0.01366667, 0.98633333],\n",
       "       [0.6509134 , 0.3490866 ],\n",
       "       [0.03482249, 0.96517751],\n",
       "       [0.90557348, 0.09442652],\n",
       "       [0.87793414, 0.12206586],\n",
       "       [0.05715476, 0.94284524],\n",
       "       [0.40340956, 0.59659044],\n",
       "       [0.82      , 0.18      ],\n",
       "       [0.90336289, 0.09663711],\n",
       "       [0.94721414, 0.05278586],\n",
       "       [0.93862522, 0.06137478],\n",
       "       [0.95483317, 0.04516683],\n",
       "       [0.96422632, 0.03577368],\n",
       "       [0.86291452, 0.13708548],\n",
       "       [0.42044095, 0.57955905],\n",
       "       [0.77196254, 0.22803746],\n",
       "       [0.96550805, 0.03449195],\n",
       "       [0.97      , 0.03      ],\n",
       "       [0.93415778, 0.06584222],\n",
       "       [0.6738031 , 0.3261969 ],\n",
       "       [0.90357794, 0.09642206],\n",
       "       [0.96280963, 0.03719037],\n",
       "       [0.03482249, 0.96517751],\n",
       "       [0.97091135, 0.02908865],\n",
       "       [0.87039078, 0.12960922],\n",
       "       [0.04142857, 0.95857143],\n",
       "       [0.96416249, 0.03583751],\n",
       "       [0.85136345, 0.14863655],\n",
       "       [0.80607143, 0.19392857],\n",
       "       [0.93516564, 0.06483436],\n",
       "       [0.96211111, 0.03788889],\n",
       "       [0.99014009, 0.00985991],\n",
       "       [0.0599336 , 0.9400664 ],\n",
       "       [0.92      , 0.08      ],\n",
       "       [0.83979259, 0.16020741],\n",
       "       [0.96416249, 0.03583751],\n",
       "       [0.00954451, 0.99045549],\n",
       "       [0.41281996, 0.58718004],\n",
       "       [0.98695948, 0.01304052],\n",
       "       [0.92619573, 0.07380427],\n",
       "       [0.88155053, 0.11844947],\n",
       "       [0.00621118, 0.99378882],\n",
       "       [0.74967904, 0.25032096],\n",
       "       [0.86967159, 0.13032841],\n",
       "       [0.21932056, 0.78067944],\n",
       "       [0.39729844, 0.60270156],\n",
       "       [0.60998698, 0.39001302],\n",
       "       [0.2014225 , 0.7985775 ],\n",
       "       [0.0241542 , 0.9758458 ],\n",
       "       [0.95489046, 0.04510954],\n",
       "       [0.054     , 0.946     ],\n",
       "       [0.03482249, 0.96517751],\n",
       "       [0.27563488, 0.72436512],\n",
       "       [0.17634622, 0.82365378],\n",
       "       [0.05185027, 0.94814973],\n",
       "       [0.89333333, 0.10666667],\n",
       "       [0.29807143, 0.70192857],\n",
       "       [0.9400073 , 0.0599927 ],\n",
       "       [0.46249462, 0.53750538],\n",
       "       [0.87413982, 0.12586018],\n",
       "       [0.17845648, 0.82154352],\n",
       "       [0.28052451, 0.71947549],\n",
       "       [0.26417915, 0.73582085],\n",
       "       [0.84810103, 0.15189897],\n",
       "       [0.303536  , 0.696464  ],\n",
       "       [0.87793414, 0.12206586],\n",
       "       [0.7817011 , 0.2182989 ],\n",
       "       [0.72159948, 0.27840052],\n",
       "       [0.92039078, 0.07960922],\n",
       "       [0.01      , 0.99      ],\n",
       "       [0.8565632 , 0.1434368 ],\n",
       "       [0.43836937, 0.56163063],\n",
       "       [0.10875   , 0.89125   ],\n",
       "       [0.0322619 , 0.9677381 ],\n",
       "       [0.00142857, 0.99857143],\n",
       "       [0.01      , 0.99      ],\n",
       "       [0.96      , 0.04      ],\n",
       "       [0.83979259, 0.16020741],\n",
       "       [0.16204762, 0.83795238],\n",
       "       [0.89251627, 0.10748373],\n",
       "       [0.33686239, 0.66313761],\n",
       "       [0.064884  , 0.935116  ],\n",
       "       [0.83833333, 0.16166667],\n",
       "       [0.98717656, 0.01282344],\n",
       "       [0.67007932, 0.32992068],\n",
       "       [0.6555221 , 0.3444779 ],\n",
       "       [0.91100192, 0.08899808],\n",
       "       [0.93      , 0.07      ],\n",
       "       [0.74913139, 0.25086861],\n",
       "       [0.93516564, 0.06483436],\n",
       "       [0.90857763, 0.09142237],\n",
       "       [0.18005605, 0.81994395],\n",
       "       [0.86705913, 0.13294087],\n",
       "       [0.276589  , 0.723411  ],\n",
       "       [0.74320264, 0.25679736],\n",
       "       [0.04      , 0.96      ],\n",
       "       [0.6035119 , 0.3964881 ],\n",
       "       [0.01671053, 0.98328947],\n",
       "       [0.29872549, 0.70127451],\n",
       "       [0.094     , 0.906     ],\n",
       "       [0.0257619 , 0.9742381 ],\n",
       "       [0.03979853, 0.96020147],\n",
       "       [0.86414875, 0.13585125],\n",
       "       [0.82256528, 0.17743472],\n",
       "       [0.03560027, 0.96439973],\n",
       "       [0.83778173, 0.16221827],\n",
       "       [0.30176779, 0.69823221],\n",
       "       [0.76166667, 0.23833333],\n",
       "       [0.9393823 , 0.0606177 ],\n",
       "       [0.90100178, 0.09899822],\n",
       "       [0.66812431, 0.33187569],\n",
       "       [0.79469757, 0.20530243],\n",
       "       [0.51025501, 0.48974499],\n",
       "       [0.27282411, 0.72717589],\n",
       "       [0.81448965, 0.18551035],\n",
       "       [0.04      , 0.96      ],\n",
       "       [0.97454366, 0.02545634],\n",
       "       [0.88490968, 0.11509032],\n",
       "       [0.67825595, 0.32174405],\n",
       "       [0.94724481, 0.05275519],\n",
       "       [0.09053571, 0.90946429],\n",
       "       [0.94413869, 0.05586131],\n",
       "       [0.85627413, 0.14372587],\n",
       "       [0.92853767, 0.07146233],\n",
       "       [0.70478664, 0.29521336],\n",
       "       [0.91727157, 0.08272843],\n",
       "       [0.75181487, 0.24818513],\n",
       "       [0.9856352 , 0.0143648 ],\n",
       "       [0.60930991, 0.39069009],\n",
       "       [0.92039078, 0.07960922],\n",
       "       [0.97397811, 0.02602189],\n",
       "       [0.97668356, 0.02331644],\n",
       "       [0.94394737, 0.05605263],\n",
       "       [0.02      , 0.98      ],\n",
       "       [0.05874219, 0.94125781],\n",
       "       [0.01704451, 0.98295549],\n",
       "       [0.74008396, 0.25991604],\n",
       "       [0.00704451, 0.99295549],\n",
       "       [0.7092781 , 0.2907219 ],\n",
       "       [0.33769668, 0.66230332],\n",
       "       [0.94374462, 0.05625538],\n",
       "       [0.98421323, 0.01578677],\n",
       "       [0.00825   , 0.99175   ],\n",
       "       [0.93780535, 0.06219465],\n",
       "       [0.01761905, 0.98238095],\n",
       "       [0.80622923, 0.19377077],\n",
       "       [0.0160119 , 0.9839881 ],\n",
       "       [0.94502677, 0.05497323],\n",
       "       [0.74015476, 0.25984524],\n",
       "       [0.96416249, 0.03583751],\n",
       "       [0.80444444, 0.19555556],\n",
       "       [0.9766957 , 0.0233043 ],\n",
       "       [0.97694866, 0.02305134],\n",
       "       [0.18885784, 0.81114216],\n",
       "       [0.60320348, 0.39679652],\n",
       "       [0.65348916, 0.34651084],\n",
       "       [0.94723398, 0.05276602],\n",
       "       [0.04      , 0.96      ],\n",
       "       [0.9710429 , 0.0289571 ],\n",
       "       [0.96416249, 0.03583751],\n",
       "       [0.87105452, 0.12894548],\n",
       "       [0.95060971, 0.04939029],\n",
       "       [0.76308103, 0.23691897],\n",
       "       [0.96435163, 0.03564837],\n",
       "       [0.28699089, 0.71300911],\n",
       "       [0.95277778, 0.04722222],\n",
       "       [1.        , 0.        ],\n",
       "       [0.46620117, 0.53379883],\n",
       "       [0.98352206, 0.01647794],\n",
       "       [0.1142986 , 0.8857014 ],\n",
       "       [0.03037719, 0.96962281],\n",
       "       [0.94378448, 0.05621552],\n",
       "       [0.91441204, 0.08558796],\n",
       "       [0.15358333, 0.84641667],\n",
       "       [0.29923671, 0.70076329],\n",
       "       [0.93      , 0.07      ],\n",
       "       [0.85197681, 0.14802319],\n",
       "       [0.96729113, 0.03270887],\n",
       "       [0.93516564, 0.06483436],\n",
       "       [0.91486111, 0.08513889],\n",
       "       [0.95592749, 0.04407251],\n",
       "       [0.05158835, 0.94841165],\n",
       "       [0.9025    , 0.0975    ],\n",
       "       [0.85122344, 0.14877656],\n",
       "       [0.01      , 0.99      ],\n",
       "       [0.28160714, 0.71839286],\n",
       "       [0.94359819, 0.05640181],\n",
       "       [0.21      , 0.79      ],\n",
       "       [0.92587476, 0.07412524],\n",
       "       [0.03979522, 0.96020478],\n",
       "       [0.70841011, 0.29158989],\n",
       "       [0.93415778, 0.06584222],\n",
       "       [0.93222063, 0.06777937],\n",
       "       [0.95916128, 0.04083872],\n",
       "       [0.83778173, 0.16221827],\n",
       "       [0.04951783, 0.95048217],\n",
       "       [0.84      , 0.16      ],\n",
       "       [0.84819486, 0.15180514],\n",
       "       [0.94952898, 0.05047102],\n",
       "       [0.27046105, 0.72953895],\n",
       "       [0.02      , 0.98      ],\n",
       "       [0.10397809, 0.89602191],\n",
       "       [0.03285714, 0.96714286],\n",
       "       [0.94599702, 0.05400298],\n",
       "       [0.34024495, 0.65975505],\n",
       "       [0.69001254, 0.30998746],\n",
       "       [0.15304268, 0.84695732],\n",
       "       [0.95483317, 0.04516683],\n",
       "       [0.36897657, 0.63102343],\n",
       "       [0.0160119 , 0.9839881 ],\n",
       "       [0.91011724, 0.08988276],\n",
       "       [0.03285714, 0.96714286],\n",
       "       [0.96369237, 0.03630763],\n",
       "       [0.85347588, 0.14652412],\n",
       "       [0.77682049, 0.22317951],\n",
       "       [0.92619573, 0.07380427],\n",
       "       [0.70548379, 0.29451621]])"
      ]
     },
     "execution_count": 54,
     "metadata": {},
     "output_type": "execute_result"
    }
   ],
   "source": [
    "#estimating the probabiliy of not survived\n",
    "y_pred_proba = rf.predict_proba(X_train)\n",
    "y_pred_proba"
   ]
  },
  {
   "cell_type": "markdown",
   "id": "a948bfd6",
   "metadata": {},
   "source": [
    "### Exercise 2) \n",
    "Evaluate your results using the model score, confusion matrix, and classification report."
   ]
  },
  {
   "cell_type": "code",
   "execution_count": 55,
   "id": "bd3e6f95",
   "metadata": {},
   "outputs": [
    {
     "name": "stdout",
     "output_type": "stream",
     "text": [
      "[[307   0]\n",
      " [ 14 177]]\n"
     ]
    }
   ],
   "source": [
    "#now let's try comparing this to a confusion matrix\n",
    "print(confusion_matrix(y_train, y_pred))"
   ]
  },
  {
   "cell_type": "code",
   "execution_count": 56,
   "id": "b6841dfd",
   "metadata": {},
   "outputs": [
    {
     "name": "stdout",
     "output_type": "stream",
     "text": [
      "              precision    recall  f1-score   support\n",
      "\n",
      "           0       0.96      1.00      0.98       307\n",
      "           1       1.00      0.93      0.96       191\n",
      "\n",
      "    accuracy                           0.97       498\n",
      "   macro avg       0.98      0.96      0.97       498\n",
      "weighted avg       0.97      0.97      0.97       498\n",
      "\n"
     ]
    }
   ],
   "source": [
    "#a classification report of this RF model\n",
    "print(classification_report(y_train, y_pred))"
   ]
  },
  {
   "cell_type": "markdown",
   "id": "8d32c831",
   "metadata": {},
   "source": [
    "### Exercise 3)\n",
    "Print and clearly label the following: Accuracy, true positive rate, false positive rate, true negative rate, false negative rate, precision, recall, f1-score, and support."
   ]
  },
  {
   "cell_type": "code",
   "execution_count": 57,
   "id": "7c0751b8",
   "metadata": {},
   "outputs": [
    {
     "name": "stdout",
     "output_type": "stream",
     "text": [
      "Accuracy: 0.9718875502008032\n",
      "True Positive Rate: 0.956386292834891\n",
      "False Positive Rate: 0.0\n",
      "True Negative Rate: 1.0\n",
      "False Negative Rate: 0.04361370716510903\n",
      "Precision: 1.0\n",
      "Recall: 0.956386292834891\n",
      "F1 Score: 0.9777070063694268\n",
      "Support (0): 321\n",
      "Support (1): 177\n"
     ]
    }
   ],
   "source": [
    "TP = 307\n",
    "FP = 0\n",
    "FN = 14\n",
    "TN = 177\n",
    "ALL = TP + FP + FN + TN\n",
    "\n",
    "accuracy = (TP + TN)/ALL\n",
    "print(f\"Accuracy: {accuracy}\")\n",
    "\n",
    "true_positive_rate = TP/(TP+FN)\n",
    "print(f\"True Positive Rate: {true_positive_rate}\")\n",
    "\n",
    "false_positive_rate = FP/(FP+TN)\n",
    "print(f\"False Positive Rate: {false_positive_rate}\")\n",
    "\n",
    "true_negative_rate = TN/(TN+FP)\n",
    "print(f\"True Negative Rate: {true_negative_rate}\")\n",
    "\n",
    "false_negative_rate = FN/(FN+TP)\n",
    "print(f\"False Negative Rate: {false_negative_rate}\")\n",
    "\n",
    "precision = TP/(TP+FP)\n",
    "print(f\"Precision: {precision}\")\n",
    "\n",
    "recall = TP/(TP+FN)\n",
    "print(f\"Recall: {recall}\")\n",
    "\n",
    "f1_score = 2*(precision*recall)/(precision+recall)\n",
    "print(f\"F1 Score: {f1_score}\")\n",
    "\n",
    "support_pos = TP + FN\n",
    "print(f\"Support (0): {support_pos}\")\n",
    "\n",
    "support_neg = FP + TN\n",
    "print(f\"Support (1): {support_neg}\")"
   ]
  },
  {
   "cell_type": "markdown",
   "id": "4d43097b",
   "metadata": {},
   "source": [
    "### Exercise 4):\n",
    "Run through steps increasing your min_samples_leaf and decreasing your max_depth."
   ]
  },
  {
   "cell_type": "code",
   "execution_count": 58,
   "id": "2bdc9711",
   "metadata": {},
   "outputs": [
    {
     "name": "stdout",
     "output_type": "stream",
     "text": [
      "Random Forest model with max depth of 2\n",
      "                    0           1  accuracy   macro avg  weighted avg\n",
      "precision    0.775194    0.936937  0.811245    0.856065      0.837228\n",
      "recall       0.977199    0.544503  0.811245    0.760851      0.811245\n",
      "f1-score     0.864553    0.688742  0.811245    0.776648      0.797124\n",
      "support    307.000000  191.000000  0.811245  498.000000    498.000000\n",
      "\n",
      "Random Forest model with max depth of 3\n",
      "                    0           1  accuracy   macro avg  weighted avg\n",
      "precision    0.817927    0.893617  0.839357    0.855772      0.846957\n",
      "recall       0.951140    0.659686  0.839357    0.805413      0.839357\n",
      "f1-score     0.879518    0.759036  0.839357    0.819277      0.833309\n",
      "support    307.000000  191.000000  0.839357  498.000000    498.000000\n",
      "\n",
      "Random Forest model with max depth of 4\n",
      "                    0           1  accuracy   macro avg  weighted avg\n",
      "precision    0.828169    0.909091  0.851406    0.868630      0.859205\n",
      "recall       0.957655    0.680628  0.851406    0.819141      0.851406\n",
      "f1-score     0.888218    0.778443  0.851406    0.833330      0.846115\n",
      "support    307.000000  191.000000  0.851406  498.000000    498.000000\n",
      "\n",
      "Random Forest model with max depth of 5\n",
      "                    0           1  accuracy   macro avg  weighted avg\n",
      "precision    0.838527    0.924138  0.863454    0.881332      0.871362\n",
      "recall       0.964169    0.701571  0.863454    0.832870      0.863454\n",
      "f1-score     0.896970    0.797619  0.863454    0.847294      0.858865\n",
      "support    307.000000  191.000000  0.863454  498.000000    498.000000\n",
      "\n",
      "Random Forest model with max depth of 6\n",
      "                    0           1  accuracy   macro avg  weighted avg\n",
      "precision    0.853448    0.933333   0.87751    0.893391      0.884087\n",
      "recall       0.967427    0.732984   0.87751    0.850206      0.877510\n",
      "f1-score     0.906870    0.821114   0.87751    0.863992      0.873980\n",
      "support    307.000000  191.000000   0.87751  498.000000    498.000000\n",
      "\n",
      "Random Forest model with max depth of 7\n",
      "                    0           1  accuracy   macro avg  weighted avg\n",
      "precision    0.879056    0.943396  0.899598    0.911226      0.903733\n",
      "recall       0.970684    0.785340  0.899598    0.878012      0.899598\n",
      "f1-score     0.922601    0.857143  0.899598    0.889872      0.897495\n",
      "support    307.000000  191.000000  0.899598  498.000000    498.000000\n",
      "\n",
      "Random Forest model with max depth of 8\n",
      "                    0           1  accuracy   macro avg  weighted avg\n",
      "precision    0.881657    0.943750  0.901606    0.912703      0.905472\n",
      "recall       0.970684    0.790576  0.901606    0.880630      0.901606\n",
      "f1-score     0.924031    0.860399  0.901606    0.892215      0.899626\n",
      "support    307.000000  191.000000  0.901606  498.000000    498.000000\n",
      "\n",
      "Random Forest model with max depth of 9\n",
      "                    0           1  accuracy   macro avg  weighted avg\n",
      "precision    0.887240    0.950311  0.907631    0.918775      0.911430\n",
      "recall       0.973941    0.801047  0.907631    0.887494      0.907631\n",
      "f1-score     0.928571    0.869318  0.907631    0.898945      0.905846\n",
      "support    307.000000  191.000000  0.907631  498.000000    498.000000\n",
      "\n"
     ]
    }
   ],
   "source": [
    "#Create a loop so we can easily change and auto different max_depths (will add in min_samples on the next kernel)\n",
    "for i in range(2,10):\n",
    "    # Make the model\n",
    "    forest = RandomForestClassifier(bootstrap=True, \n",
    "                            class_weight=None, \n",
    "                            criterion='gini',\n",
    "                            min_samples_leaf=3,\n",
    "                            n_estimators=100,\n",
    "                            max_depth=i, \n",
    "                            random_state=123)\n",
    "\n",
    "    # Fit the model (on train and only train)\n",
    "    forest = forest.fit(X_train, y_train)\n",
    "\n",
    "    # Use the model\n",
    "    # We'll evaluate the model's performance on train, first\n",
    "    y_predictions = forest.predict(X_train)\n",
    "\n",
    "    # Produce the classification report on the actual y values and this model's predicted y values\n",
    "    report = classification_report(y_train, y_predictions, output_dict=True)\n",
    "    print(f\"Random Forest model with max depth of {i}\")\n",
    "    print(pd.DataFrame(report))\n",
    "    print()"
   ]
  },
  {
   "cell_type": "code",
   "execution_count": null,
   "id": "af108664",
   "metadata": {},
   "outputs": [],
   "source": []
  },
  {
   "cell_type": "markdown",
   "id": "e410fc38",
   "metadata": {},
   "source": [
    "### Exercise 5) \n",
    "What are the differences in the evaluation metrics? Which performs better on your in-sample data? Why?"
   ]
  },
  {
   "cell_type": "markdown",
   "id": "9d29ed09",
   "metadata": {},
   "source": [
    "<b>My in-sample data shows that the higher max depth is the higher the  return of accuracy is </b>"
   ]
  },
  {
   "cell_type": "code",
   "execution_count": 59,
   "id": "1b5c70b7",
   "metadata": {},
   "outputs": [
    {
     "data": {
      "text/html": [
       "<div>\n",
       "<style scoped>\n",
       "    .dataframe tbody tr th:only-of-type {\n",
       "        vertical-align: middle;\n",
       "    }\n",
       "\n",
       "    .dataframe tbody tr th {\n",
       "        vertical-align: top;\n",
       "    }\n",
       "\n",
       "    .dataframe thead th {\n",
       "        text-align: right;\n",
       "    }\n",
       "</style>\n",
       "<table border=\"1\" class=\"dataframe\">\n",
       "  <thead>\n",
       "    <tr style=\"text-align: right;\">\n",
       "      <th></th>\n",
       "      <th>max_depth</th>\n",
       "      <th>min_samples_leaf</th>\n",
       "      <th>train_accuracy</th>\n",
       "      <th>validate_accuracy</th>\n",
       "      <th>difference</th>\n",
       "    </tr>\n",
       "  </thead>\n",
       "  <tbody>\n",
       "    <tr>\n",
       "      <th>0</th>\n",
       "      <td>9</td>\n",
       "      <td>2</td>\n",
       "      <td>0.915663</td>\n",
       "      <td>0.803738</td>\n",
       "      <td>0.111924</td>\n",
       "    </tr>\n",
       "    <tr>\n",
       "      <th>1</th>\n",
       "      <td>8</td>\n",
       "      <td>3</td>\n",
       "      <td>0.901606</td>\n",
       "      <td>0.813084</td>\n",
       "      <td>0.088522</td>\n",
       "    </tr>\n",
       "    <tr>\n",
       "      <th>2</th>\n",
       "      <td>7</td>\n",
       "      <td>4</td>\n",
       "      <td>0.889558</td>\n",
       "      <td>0.813084</td>\n",
       "      <td>0.076474</td>\n",
       "    </tr>\n",
       "    <tr>\n",
       "      <th>3</th>\n",
       "      <td>6</td>\n",
       "      <td>5</td>\n",
       "      <td>0.867470</td>\n",
       "      <td>0.799065</td>\n",
       "      <td>0.068404</td>\n",
       "    </tr>\n",
       "    <tr>\n",
       "      <th>4</th>\n",
       "      <td>5</td>\n",
       "      <td>6</td>\n",
       "      <td>0.859438</td>\n",
       "      <td>0.789720</td>\n",
       "      <td>0.069718</td>\n",
       "    </tr>\n",
       "    <tr>\n",
       "      <th>5</th>\n",
       "      <td>4</td>\n",
       "      <td>7</td>\n",
       "      <td>0.843373</td>\n",
       "      <td>0.813084</td>\n",
       "      <td>0.030289</td>\n",
       "    </tr>\n",
       "    <tr>\n",
       "      <th>6</th>\n",
       "      <td>3</td>\n",
       "      <td>8</td>\n",
       "      <td>0.821285</td>\n",
       "      <td>0.799065</td>\n",
       "      <td>0.022220</td>\n",
       "    </tr>\n",
       "    <tr>\n",
       "      <th>7</th>\n",
       "      <td>2</td>\n",
       "      <td>9</td>\n",
       "      <td>0.819277</td>\n",
       "      <td>0.794393</td>\n",
       "      <td>0.024885</td>\n",
       "    </tr>\n",
       "    <tr>\n",
       "      <th>8</th>\n",
       "      <td>1</td>\n",
       "      <td>10</td>\n",
       "      <td>0.736948</td>\n",
       "      <td>0.724299</td>\n",
       "      <td>0.012649</td>\n",
       "    </tr>\n",
       "  </tbody>\n",
       "</table>\n",
       "</div>"
      ],
      "text/plain": [
       "   max_depth  min_samples_leaf  train_accuracy  validate_accuracy  difference\n",
       "0          9                 2        0.915663           0.803738    0.111924\n",
       "1          8                 3        0.901606           0.813084    0.088522\n",
       "2          7                 4        0.889558           0.813084    0.076474\n",
       "3          6                 5        0.867470           0.799065    0.068404\n",
       "4          5                 6        0.859438           0.789720    0.069718\n",
       "5          4                 7        0.843373           0.813084    0.030289\n",
       "6          3                 8        0.821285           0.799065    0.022220\n",
       "7          2                 9        0.819277           0.794393    0.024885\n",
       "8          1                10        0.736948           0.724299    0.012649"
      ]
     },
     "execution_count": 59,
     "metadata": {},
     "output_type": "execute_result"
    }
   ],
   "source": [
    "#let's compare with validate (out-of-sample data)\n",
    "depth = list(range(10,0,-1))\n",
    "leaf = list(range(1,11))\n",
    "metrics = []\n",
    "\n",
    "for i in range(1,10):\n",
    "    # Make the model\n",
    "    forest = RandomForestClassifier(bootstrap=True, \n",
    "                            class_weight=None, \n",
    "                            criterion='gini',\n",
    "                            min_samples_leaf= leaf[i],\n",
    "                            n_estimators=100,\n",
    "                            max_depth= depth[i], \n",
    "                            random_state=123)\n",
    "\n",
    "    # Fit the model (on train and only train)\n",
    "    forest = forest.fit(X_train, y_train)\n",
    "\n",
    "    # Use the model\n",
    "    # We'll evaluate the model's performance on train, first\n",
    "    in_sample_accuracy = forest.score(X_train, y_train)\n",
    "    \n",
    "    out_of_sample_accuracy = forest.score(X_validate, y_validate)\n",
    "\n",
    "    output = {\n",
    "        \"max_depth\": depth[i],\n",
    "        \"min_samples_leaf\": leaf[i],\n",
    "        \"train_accuracy\": in_sample_accuracy,\n",
    "        \"validate_accuracy\": out_of_sample_accuracy\n",
    "    }\n",
    "    \n",
    "    metrics.append(output)\n",
    "    \n",
    "df = pd.DataFrame(metrics)\n",
    "df[\"difference\"] = df.train_accuracy - df.validate_accuracy\n",
    "df\n",
    "\n",
    "#we are hyperparameter tuning when we model...like 'hot-roding' our data"
   ]
  },
  {
   "cell_type": "markdown",
   "id": "b1734f9e",
   "metadata": {},
   "source": [
    "<b>TAKE_AWAYS: The differences of train vs validate are showing that there is some over-fitting happening. I would choose probably row 5 or 6 due to similar accuracy (between train and validation) and there is smaller rate of differece too with no overfitting.</b>"
   ]
  },
  {
   "cell_type": "code",
   "execution_count": 60,
   "id": "070cbcd6",
   "metadata": {},
   "outputs": [
    {
     "data": {
      "text/plain": [
       "10"
      ]
     },
     "execution_count": 60,
     "metadata": {},
     "output_type": "execute_result"
    }
   ],
   "source": [
    "#Thinking about lists: (for self reminders)\n",
    "#notes: remember, lists are functions!\n",
    "#depth = list(range(10,0,-1))\n",
    "#leaf = list(range(1,10))\n",
    "\n",
    "#another note: if error of index not \"fitting\" shows up, check the created list functions lengths\n",
    "len(depth)"
   ]
  },
  {
   "cell_type": "code",
   "execution_count": 61,
   "id": "c69e3b28",
   "metadata": {},
   "outputs": [
    {
     "data": {
      "text/plain": [
       "10"
      ]
     },
     "execution_count": 61,
     "metadata": {},
     "output_type": "execute_result"
    }
   ],
   "source": [
    "len(leaf)"
   ]
  },
  {
   "cell_type": "markdown",
   "id": "9c1b68a6",
   "metadata": {},
   "source": [
    "## KNN EXERCISES"
   ]
  },
  {
   "cell_type": "markdown",
   "id": "757e04f4",
   "metadata": {},
   "source": [
    "### Exercise 1)\n",
    "Fit a K-Nearest Neighbors classifier to your training sample and transform (i.e. make predictions on the training sample)"
   ]
  },
  {
   "cell_type": "code",
   "execution_count": 62,
   "id": "2b5c3b3b",
   "metadata": {},
   "outputs": [],
   "source": [
    "from sklearn.neighbors import KNeighborsClassifier"
   ]
  },
  {
   "cell_type": "markdown",
   "id": "a92d19f8",
   "metadata": {},
   "source": [
    "- Training our Model:"
   ]
  },
  {
   "cell_type": "code",
   "execution_count": 63,
   "id": "4c87b739",
   "metadata": {},
   "outputs": [],
   "source": [
    "#creating KNN object\n",
    "#weights will be uniform and density\n",
    "knn = KNeighborsClassifier(n_neighbors=5, weights='uniform')"
   ]
  },
  {
   "cell_type": "code",
   "execution_count": 64,
   "id": "0962a023",
   "metadata": {},
   "outputs": [
    {
     "data": {
      "text/plain": [
       "KNeighborsClassifier()"
      ]
     },
     "execution_count": 64,
     "metadata": {},
     "output_type": "execute_result"
    }
   ],
   "source": [
    "#Fit the K-Nearest Neighbors to train\n",
    "knn.fit(X_train, y_train)"
   ]
  },
  {
   "cell_type": "markdown",
   "id": "5494b2ea",
   "metadata": {},
   "source": [
    "- Finding our baseline"
   ]
  },
  {
   "cell_type": "code",
   "execution_count": 65,
   "id": "c9bfd290",
   "metadata": {},
   "outputs": [
    {
     "data": {
      "text/plain": [
       "0.6164658634538153"
      ]
     },
     "execution_count": 65,
     "metadata": {},
     "output_type": "execute_result"
    }
   ],
   "source": [
    "train['baseline_prediction'] = 0\n",
    "baseline_accuracy = (train.baseline_prediction == train.survived).mean()\n",
    "baseline_accuracy"
   ]
  },
  {
   "cell_type": "markdown",
   "id": "765cb38d",
   "metadata": {},
   "source": [
    "- Predictions & Probablity Time:"
   ]
  },
  {
   "cell_type": "code",
   "execution_count": 66,
   "id": "578523c8",
   "metadata": {},
   "outputs": [],
   "source": [
    "#Let's make predictions!\n",
    "#classifying each parameter by predicting if one survived Titanic or not\n",
    "y_pred = knn.predict(X_train)"
   ]
  },
  {
   "cell_type": "code",
   "execution_count": 67,
   "id": "27ed3e95",
   "metadata": {},
   "outputs": [],
   "source": [
    "#now some probabilities\n",
    "y_pred_proba=knn.predict_proba(X_train)"
   ]
  },
  {
   "cell_type": "markdown",
   "id": "9a9c4329",
   "metadata": {},
   "source": [
    "### Exercise 2)\n",
    "Evaluate your results using the model score, confusion matrix, and classification report."
   ]
  },
  {
   "cell_type": "code",
   "execution_count": 68,
   "id": "68fa0071",
   "metadata": {},
   "outputs": [
    {
     "name": "stdout",
     "output_type": "stream",
     "text": [
      "Accuracy of KNN classifier on training set: 0.79\n"
     ]
    }
   ],
   "source": [
    "#evaluating our model score of accuracy\n",
    "print('Accuracy of KNN classifier on training set: {:.2f}'\n",
    "     .format(knn.score(X_train, y_train)))"
   ]
  },
  {
   "cell_type": "code",
   "execution_count": 69,
   "id": "4f0fdf5d",
   "metadata": {},
   "outputs": [
    {
     "name": "stdout",
     "output_type": "stream",
     "text": [
      "[[255  52]\n",
      " [ 54 137]]\n"
     ]
    }
   ],
   "source": [
    "#evaluating our model with confusion matrix\n",
    "print(confusion_matrix(y_train, y_pred))"
   ]
  },
  {
   "cell_type": "code",
   "execution_count": 70,
   "id": "05e1955a",
   "metadata": {},
   "outputs": [
    {
     "name": "stdout",
     "output_type": "stream",
     "text": [
      "              precision    recall  f1-score   support\n",
      "\n",
      "           0       0.83      0.83      0.83       307\n",
      "           1       0.72      0.72      0.72       191\n",
      "\n",
      "    accuracy                           0.79       498\n",
      "   macro avg       0.78      0.77      0.77       498\n",
      "weighted avg       0.79      0.79      0.79       498\n",
      "\n"
     ]
    }
   ],
   "source": [
    "#evaluating our model with classification report\n",
    "print(classification_report(y_train, y_pred))"
   ]
  },
  {
   "cell_type": "markdown",
   "id": "f08972f0",
   "metadata": {},
   "source": [
    "### Exercise 3)\n",
    "Print and clearly label the following: Accuracy, true positive rate, false positive rate, true negative rate, false negative rate, precision, recall, f1-score, and support."
   ]
  },
  {
   "cell_type": "code",
   "execution_count": 71,
   "id": "0eb306e0",
   "metadata": {},
   "outputs": [
    {
     "data": {
      "text/plain": [
       "(153, 299, 8, 38)"
      ]
     },
     "execution_count": 71,
     "metadata": {},
     "output_type": "execute_result"
    }
   ],
   "source": [
    "TN, FP, FN, TP = confusion_matrix(y_train,y_predictions).ravel()\n",
    "ALL = TP + TN + FP + FN\n",
    "\n",
    "TP, TN, FP, FN"
   ]
  },
  {
   "cell_type": "code",
   "execution_count": 72,
   "id": "d432aad2",
   "metadata": {},
   "outputs": [
    {
     "name": "stdout",
     "output_type": "stream",
     "text": [
      "Accuracy: 0.9076305220883534\n",
      "True Positive Rate: 0.8010471204188482\n",
      "False Positive Rate: 0.026058631921824105\n",
      "True Negative Rate: 0.9739413680781759\n",
      "False Negative Rate: 0.19895287958115182\n",
      "Precision: 0.9503105590062112\n",
      "Recall: 0.8010471204188482\n",
      "F1 Score: 0.8693181818181818\n",
      "Support (0): 191\n",
      "Support (1): 307\n"
     ]
    }
   ],
   "source": [
    "accuracy = (TP + TN)/ALL\n",
    "print(f\"Accuracy: {accuracy}\")\n",
    "\n",
    "true_positive_rate = TP/(TP+FN)\n",
    "print(f\"True Positive Rate: {true_positive_rate}\")\n",
    "\n",
    "false_positive_rate = FP/(FP+TN)\n",
    "print(f\"False Positive Rate: {false_positive_rate}\")\n",
    "\n",
    "true_negative_rate = TN/(TN+FP)\n",
    "print(f\"True Negative Rate: {true_negative_rate}\")\n",
    "\n",
    "false_negative_rate = FN/(FN+TP)\n",
    "print(f\"False Negative Rate: {false_negative_rate}\")\n",
    "\n",
    "precision = TP/(TP+FP)\n",
    "print(f\"Precision: {precision}\")\n",
    "\n",
    "recall = TP/(TP+FN)\n",
    "print(f\"Recall: {recall}\")\n",
    "\n",
    "f1_score = 2*(precision*recall)/(precision+recall)\n",
    "print(f\"F1 Score: {f1_score}\")\n",
    "\n",
    "support_pos = TP + FN\n",
    "print(f\"Support (0): {support_pos}\")\n",
    "\n",
    "support_neg = FP + TN\n",
    "print(f\"Support (1): {support_neg}\")"
   ]
  },
  {
   "cell_type": "markdown",
   "id": "eb04a6fa",
   "metadata": {},
   "source": [
    "### Exercise 4)\n",
    "Run through steps 2-4 setting k to 10"
   ]
  },
  {
   "cell_type": "code",
   "execution_count": 73,
   "id": "40838ea1",
   "metadata": {},
   "outputs": [],
   "source": [
    "knn10 = KNeighborsClassifier(n_neighbors=10, weights='uniform')# <- setting neighbors to 10\n",
    "knn10.fit(X_train, y_train)\n",
    "y_pred = knn.predict(X_train)\n",
    "y_pred_proba=knn.predict_proba(X_train)"
   ]
  },
  {
   "cell_type": "code",
   "execution_count": 74,
   "id": "c9ae2904",
   "metadata": {},
   "outputs": [
    {
     "name": "stdout",
     "output_type": "stream",
     "text": [
      "Accuracy of KNN classifier on training set: 0.75\n",
      "======================================\n",
      "[[255  52]\n",
      " [ 54 137]]\n",
      "======================================\n",
      "              precision    recall  f1-score   support\n",
      "\n",
      "           0       0.83      0.83      0.83       307\n",
      "           1       0.72      0.72      0.72       191\n",
      "\n",
      "    accuracy                           0.79       498\n",
      "   macro avg       0.78      0.77      0.77       498\n",
      "weighted avg       0.79      0.79      0.79       498\n",
      "\n"
     ]
    }
   ],
   "source": [
    "#evaluating our model score of accuracy\n",
    "print('Accuracy of KNN classifier on training set: {:.2f}'\n",
    "     .format(knn10.score(X_train, y_train)))\n",
    "print('======================================')\n",
    "#evaluating our model with confusion matrix\n",
    "print(confusion_matrix(y_train, y_pred))\n",
    "#evaluating our model with classification report\n",
    "print('======================================')\n",
    "print(classification_report(y_train, y_pred))"
   ]
  },
  {
   "cell_type": "code",
   "execution_count": 75,
   "id": "defaa1b6",
   "metadata": {},
   "outputs": [
    {
     "data": {
      "text/plain": [
       "(153, 299, 8, 38)"
      ]
     },
     "execution_count": 75,
     "metadata": {},
     "output_type": "execute_result"
    }
   ],
   "source": [
    "#evaluating our statistical features with knn10\n",
    "TN, FP, FN, TP = confusion_matrix(y_train,y_predictions).ravel()\n",
    "ALL = TP + TN + FP + FN\n",
    "\n",
    "TP, TN, FP, FN"
   ]
  },
  {
   "cell_type": "code",
   "execution_count": 76,
   "id": "0198107b",
   "metadata": {},
   "outputs": [
    {
     "name": "stdout",
     "output_type": "stream",
     "text": [
      "Accuracy: 0.9076305220883534\n",
      "True Positive Rate: 0.8010471204188482\n",
      "False Positive Rate: 0.026058631921824105\n",
      "True Negative Rate: 0.9739413680781759\n",
      "False Negative Rate: 0.19895287958115182\n",
      "Precision: 0.9503105590062112\n",
      "Recall: 0.8010471204188482\n",
      "F1 Score: 0.8693181818181818\n",
      "Support (0): 191\n",
      "Support (1): 307\n"
     ]
    }
   ],
   "source": [
    "accuracy = (TP + TN)/ALL\n",
    "print(f\"Accuracy: {accuracy}\")\n",
    "\n",
    "true_positive_rate = TP/(TP+FN)\n",
    "print(f\"True Positive Rate: {true_positive_rate}\")\n",
    "\n",
    "false_positive_rate = FP/(FP+TN)\n",
    "print(f\"False Positive Rate: {false_positive_rate}\")\n",
    "\n",
    "true_negative_rate = TN/(TN+FP)\n",
    "print(f\"True Negative Rate: {true_negative_rate}\")\n",
    "\n",
    "false_negative_rate = FN/(FN+TP)\n",
    "print(f\"False Negative Rate: {false_negative_rate}\")\n",
    "\n",
    "precision = TP/(TP+FP)\n",
    "print(f\"Precision: {precision}\")\n",
    "\n",
    "recall = TP/(TP+FN)\n",
    "print(f\"Recall: {recall}\")\n",
    "\n",
    "f1_score = 2*(precision*recall)/(precision+recall)\n",
    "print(f\"F1 Score: {f1_score}\")\n",
    "\n",
    "support_pos = TP + FN\n",
    "print(f\"Support (0): {support_pos}\")\n",
    "\n",
    "support_neg = FP + TN\n",
    "print(f\"Support (1): {support_neg}\")"
   ]
  },
  {
   "cell_type": "markdown",
   "id": "e2078e75",
   "metadata": {},
   "source": [
    "### Exercise 5)\n",
    "Run through setps 2-4 setting k to 20"
   ]
  },
  {
   "cell_type": "code",
   "execution_count": 77,
   "id": "34333b27",
   "metadata": {},
   "outputs": [
    {
     "data": {
      "text/html": [
       "<div>\n",
       "<style scoped>\n",
       "    .dataframe tbody tr th:only-of-type {\n",
       "        vertical-align: middle;\n",
       "    }\n",
       "\n",
       "    .dataframe tbody tr th {\n",
       "        vertical-align: top;\n",
       "    }\n",
       "\n",
       "    .dataframe thead th {\n",
       "        text-align: right;\n",
       "    }\n",
       "</style>\n",
       "<table border=\"1\" class=\"dataframe\">\n",
       "  <thead>\n",
       "    <tr style=\"text-align: right;\">\n",
       "      <th></th>\n",
       "      <th>n_neighbors</th>\n",
       "      <th>train_accuracy</th>\n",
       "      <th>validate_accuracy</th>\n",
       "      <th>difference</th>\n",
       "    </tr>\n",
       "  </thead>\n",
       "  <tbody>\n",
       "    <tr>\n",
       "      <th>0</th>\n",
       "      <td>2</td>\n",
       "      <td>0.829317</td>\n",
       "      <td>0.705607</td>\n",
       "      <td>0.123710</td>\n",
       "    </tr>\n",
       "    <tr>\n",
       "      <th>1</th>\n",
       "      <td>3</td>\n",
       "      <td>0.841365</td>\n",
       "      <td>0.738318</td>\n",
       "      <td>0.103048</td>\n",
       "    </tr>\n",
       "    <tr>\n",
       "      <th>2</th>\n",
       "      <td>4</td>\n",
       "      <td>0.797189</td>\n",
       "      <td>0.710280</td>\n",
       "      <td>0.086908</td>\n",
       "    </tr>\n",
       "    <tr>\n",
       "      <th>3</th>\n",
       "      <td>5</td>\n",
       "      <td>0.787149</td>\n",
       "      <td>0.724299</td>\n",
       "      <td>0.062850</td>\n",
       "    </tr>\n",
       "    <tr>\n",
       "      <th>4</th>\n",
       "      <td>6</td>\n",
       "      <td>0.777108</td>\n",
       "      <td>0.733645</td>\n",
       "      <td>0.043464</td>\n",
       "    </tr>\n",
       "    <tr>\n",
       "      <th>5</th>\n",
       "      <td>7</td>\n",
       "      <td>0.777108</td>\n",
       "      <td>0.728972</td>\n",
       "      <td>0.048136</td>\n",
       "    </tr>\n",
       "    <tr>\n",
       "      <th>6</th>\n",
       "      <td>8</td>\n",
       "      <td>0.753012</td>\n",
       "      <td>0.733645</td>\n",
       "      <td>0.019367</td>\n",
       "    </tr>\n",
       "    <tr>\n",
       "      <th>7</th>\n",
       "      <td>9</td>\n",
       "      <td>0.761044</td>\n",
       "      <td>0.719626</td>\n",
       "      <td>0.041418</td>\n",
       "    </tr>\n",
       "    <tr>\n",
       "      <th>8</th>\n",
       "      <td>10</td>\n",
       "      <td>0.748996</td>\n",
       "      <td>0.738318</td>\n",
       "      <td>0.010678</td>\n",
       "    </tr>\n",
       "    <tr>\n",
       "      <th>9</th>\n",
       "      <td>11</td>\n",
       "      <td>0.751004</td>\n",
       "      <td>0.742991</td>\n",
       "      <td>0.008013</td>\n",
       "    </tr>\n",
       "    <tr>\n",
       "      <th>10</th>\n",
       "      <td>12</td>\n",
       "      <td>0.742972</td>\n",
       "      <td>0.747664</td>\n",
       "      <td>-0.004692</td>\n",
       "    </tr>\n",
       "    <tr>\n",
       "      <th>11</th>\n",
       "      <td>13</td>\n",
       "      <td>0.746988</td>\n",
       "      <td>0.752336</td>\n",
       "      <td>-0.005348</td>\n",
       "    </tr>\n",
       "    <tr>\n",
       "      <th>12</th>\n",
       "      <td>14</td>\n",
       "      <td>0.730924</td>\n",
       "      <td>0.728972</td>\n",
       "      <td>0.001952</td>\n",
       "    </tr>\n",
       "    <tr>\n",
       "      <th>13</th>\n",
       "      <td>15</td>\n",
       "      <td>0.726908</td>\n",
       "      <td>0.747664</td>\n",
       "      <td>-0.020756</td>\n",
       "    </tr>\n",
       "    <tr>\n",
       "      <th>14</th>\n",
       "      <td>16</td>\n",
       "      <td>0.730924</td>\n",
       "      <td>0.724299</td>\n",
       "      <td>0.006625</td>\n",
       "    </tr>\n",
       "    <tr>\n",
       "      <th>15</th>\n",
       "      <td>17</td>\n",
       "      <td>0.718876</td>\n",
       "      <td>0.714953</td>\n",
       "      <td>0.003922</td>\n",
       "    </tr>\n",
       "    <tr>\n",
       "      <th>16</th>\n",
       "      <td>18</td>\n",
       "      <td>0.736948</td>\n",
       "      <td>0.724299</td>\n",
       "      <td>0.012649</td>\n",
       "    </tr>\n",
       "    <tr>\n",
       "      <th>17</th>\n",
       "      <td>19</td>\n",
       "      <td>0.716867</td>\n",
       "      <td>0.724299</td>\n",
       "      <td>-0.007432</td>\n",
       "    </tr>\n",
       "    <tr>\n",
       "      <th>18</th>\n",
       "      <td>20</td>\n",
       "      <td>0.726908</td>\n",
       "      <td>0.724299</td>\n",
       "      <td>0.002609</td>\n",
       "    </tr>\n",
       "  </tbody>\n",
       "</table>\n",
       "</div>"
      ],
      "text/plain": [
       "    n_neighbors  train_accuracy  validate_accuracy  difference\n",
       "0             2        0.829317           0.705607    0.123710\n",
       "1             3        0.841365           0.738318    0.103048\n",
       "2             4        0.797189           0.710280    0.086908\n",
       "3             5        0.787149           0.724299    0.062850\n",
       "4             6        0.777108           0.733645    0.043464\n",
       "5             7        0.777108           0.728972    0.048136\n",
       "6             8        0.753012           0.733645    0.019367\n",
       "7             9        0.761044           0.719626    0.041418\n",
       "8            10        0.748996           0.738318    0.010678\n",
       "9            11        0.751004           0.742991    0.008013\n",
       "10           12        0.742972           0.747664   -0.004692\n",
       "11           13        0.746988           0.752336   -0.005348\n",
       "12           14        0.730924           0.728972    0.001952\n",
       "13           15        0.726908           0.747664   -0.020756\n",
       "14           16        0.730924           0.724299    0.006625\n",
       "15           17        0.718876           0.714953    0.003922\n",
       "16           18        0.736948           0.724299    0.012649\n",
       "17           19        0.716867           0.724299   -0.007432\n",
       "18           20        0.726908           0.724299    0.002609"
      ]
     },
     "execution_count": 77,
     "metadata": {},
     "output_type": "execute_result"
    }
   ],
   "source": [
    "k_range = list(range(1,21))\n",
    "listed = []\n",
    "\n",
    "for k in range(1,20):\n",
    "    # Make the model\n",
    "    knn = KNeighborsClassifier(n_neighbors = k_range[k],\n",
    "                               weights = 'uniform')\n",
    "\n",
    "    # Fit the model (on train and only train)\n",
    "    knn = knn.fit(X_train, y_train)\n",
    "\n",
    "    # Use the model\n",
    "    # We'll evaluate the model's performance on train, first\n",
    "    in_sample_accuracy = knn.score(X_train, y_train)\n",
    "    \n",
    "    out_of_sample_accuracy = knn.score(X_validate, y_validate)\n",
    "\n",
    "    output = {\n",
    "        \"n_neighbors\": k_range[k],\n",
    "        \"train_accuracy\": in_sample_accuracy,\n",
    "        \"validate_accuracy\": out_of_sample_accuracy\n",
    "    }\n",
    "    \n",
    "    listed.append(output)\n",
    "    \n",
    "df = pd.DataFrame(listed)\n",
    "df[\"difference\"] = df.train_accuracy - df.validate_accuracy\n",
    "df"
   ]
  },
  {
   "cell_type": "code",
   "execution_count": 78,
   "id": "a0a8bbc4",
   "metadata": {},
   "outputs": [],
   "source": [
    "#Let's visualize this!!"
   ]
  },
  {
   "cell_type": "code",
   "execution_count": 79,
   "id": "bae8b0d8",
   "metadata": {},
   "outputs": [
    {
     "data": {
      "image/png": "[encoded data removed]",
      "text/plain": [
       "<Figure size 432x288 with 1 Axes>"
      ]
     },
     "metadata": {
      "needs_background": "light"
     },
     "output_type": "display_data"
    }
   ],
   "source": [
    "import matplotlib.pyplot as plt\n",
    "k_range = range(1, 20)\n",
    "scores = []\n",
    "for k in k_range:\n",
    "    knn = KNeighborsClassifier(n_neighbors = k)\n",
    "    knn.fit(X_train, y_train)\n",
    "    scores.append(knn.score(X_test, y_test))\n",
    "plt.figure()\n",
    "plt.xlabel('k')\n",
    "plt.ylabel('accuracy')\n",
    "plt.scatter(k_range, scores)\n",
    "plt.xticks([0,5,10,15,20])\n",
    "plt.show()\n",
    "#this helps be see that around 6/7 for n_neighbors has the highest accuracy..."
   ]
  },
  {
   "cell_type": "markdown",
   "id": "d402fad4",
   "metadata": {},
   "source": [
    "### Exercise 6)\n",
    "What are the differences in the evaluation metrics? Which performs better on your in-sample data? Why?"
   ]
  },
  {
   "cell_type": "markdown",
   "id": "bb7c0db2",
   "metadata": {},
   "source": [
    "Between the accuracy score dataframe I made and the scatterplot of accuracy, I would say that number 6 performs best.\n",
    "\n",
    "    - It has a low difference of .02(rounded), meaning the Test and Validate are fairly close\n",
    "        - (also means no overfitting)\n",
    "    - It still is over our baseline of 0.62\n",
    "    - It is still at a great training point to move forward with testing the data"
   ]
  },
  {
   "cell_type": "markdown",
   "id": "97454ef6",
   "metadata": {},
   "source": [
    "### Exercise 7)\n",
    "Which model performs best on our out-of-sample data from validate?"
   ]
  },
  {
   "cell_type": "code",
   "execution_count": 80,
   "id": "556a93b8",
   "metadata": {},
   "outputs": [
    {
     "name": "stdout",
     "output_type": "stream",
     "text": [
      "Accuracy of random forest classifier on test set: 0.81\n"
     ]
    }
   ],
   "source": [
    "print('Accuracy of random forest classifier on test set: {:.2f}'\n",
    "     .format(rf.score(X_validate, y_validate)))"
   ]
  },
  {
   "cell_type": "markdown",
   "id": "e1372e05",
   "metadata": {},
   "source": [
    "# Logistic Regression Exercises\n",
    "\n",
    "### Exercise 1)\n",
    "Create a model that includes age in addition to fare and pclass. Does this model perform better than your baseline?"
   ]
  },
  {
   "cell_type": "code",
   "execution_count": 81,
   "id": "700273e8",
   "metadata": {},
   "outputs": [],
   "source": [
    "from sklearn.linear_model import LogisticRegression"
   ]
  },
  {
   "cell_type": "code",
   "execution_count": 82,
   "id": "fc6daea5",
   "metadata": {},
   "outputs": [
    {
     "data": {
      "text/plain": [
       "0.6164658634538153"
      ]
     },
     "execution_count": 82,
     "metadata": {},
     "output_type": "execute_result"
    }
   ],
   "source": [
    "#note: Baseline reminder :::::: 0.64\n",
    "\n",
    "train['baseline_prediction'] = 0\n",
    "baseline_accuracy = (train.baseline_prediction == train.survived).mean()\n",
    "baseline_accuracy"
   ]
  },
  {
   "cell_type": "code",
   "execution_count": 83,
   "id": "9c8a46fd",
   "metadata": {},
   "outputs": [],
   "source": [
    "#found a duplicated column needing to be dropped\n",
    "train = train.loc[:,~train.columns.duplicated()]"
   ]
  },
  {
   "cell_type": "code",
   "execution_count": 84,
   "id": "42933b10",
   "metadata": {},
   "outputs": [],
   "source": [
    "# split into train, validate, test\n",
    "train, validate, test = train_validate_test_split(train, target='survived', seed=123)\n",
    "\n",
    "# create X & y version of train, where y is a series with just the target variable and X are all the features. \n",
    "\n",
    "X_train = train.drop(columns=['survived','sibsp','parch','alone','sex_male','embark_town_Queenstown','embark_town_Southampton','embark_town_Southhampton','baseline_prediction'])\n",
    "y_train = train.survived\n",
    "\n",
    "X_validate = validate.drop(columns=['survived','sibsp','parch','alone','sex_male','embark_town_Queenstown','embark_town_Southampton','embark_town_Southhampton','baseline_prediction'])\n",
    "y_validate = validate.survived\n",
    "\n",
    "X_test = test.drop(columns=['survived','sibsp','parch','alone','sex_male','embark_town_Queenstown','embark_town_Southampton','embark_town_Southhampton','baseline_prediction'])\n",
    "y_test = test.survived"
   ]
  },
  {
   "cell_type": "markdown",
   "id": "25d34e13",
   "metadata": {},
   "source": [
    "### Making the Model:"
   ]
  },
  {
   "cell_type": "code",
   "execution_count": 85,
   "id": "50e0a0fd",
   "metadata": {},
   "outputs": [],
   "source": [
    "# from sklearn.linear_model import LogisticRegression\n",
    "logit = LogisticRegression(C=1, random_state=123, intercept_scaling=1, solver='lbfgs')"
   ]
  },
  {
   "cell_type": "markdown",
   "id": "8ec9ca08",
   "metadata": {},
   "source": [
    "- Fit the Model:"
   ]
  },
  {
   "cell_type": "code",
   "execution_count": 86,
   "id": "8813e03b",
   "metadata": {},
   "outputs": [
    {
     "data": {
      "text/plain": [
       "LogisticRegression(C=1, random_state=123)"
      ]
     },
     "execution_count": 86,
     "metadata": {},
     "output_type": "execute_result"
    }
   ],
   "source": [
    "logit.fit(X_train, y_train)"
   ]
  },
  {
   "cell_type": "markdown",
   "id": "c775c3bb",
   "metadata": {},
   "source": [
    "- Feature Importance: looking at each column to determine the important/weight of each feature using coefficients"
   ]
  },
  {
   "cell_type": "code",
   "execution_count": 87,
   "id": "1e9a0d4b",
   "metadata": {},
   "outputs": [
    {
     "name": "stdout",
     "output_type": "stream",
     "text": [
      "Coefficient: \n",
      " [[-0.90331246 -0.01994638  0.00570021]]\n",
      "Intercept: \n",
      " [1.97375021]\n"
     ]
    }
   ],
   "source": [
    "print('Coefficient: \\n', logit.coef_)\n",
    "print('Intercept: \\n', logit.intercept_)"
   ]
  },
  {
   "cell_type": "code",
   "execution_count": 88,
   "id": "16825a8d",
   "metadata": {},
   "outputs": [
    {
     "data": {
      "text/plain": [
       "Index(['pclass', 'age', 'fare'], dtype='object')"
      ]
     },
     "execution_count": 88,
     "metadata": {},
     "output_type": "execute_result"
    }
   ],
   "source": [
    "#to show what each column the coefficients are referring to:\n",
    "X_train.columns"
   ]
  },
  {
   "cell_type": "markdown",
   "id": "c41fa785",
   "metadata": {},
   "source": [
    "- Making Predictions on whether or not a passenger survived or not"
   ]
  },
  {
   "cell_type": "code",
   "execution_count": 89,
   "id": "3628a786",
   "metadata": {},
   "outputs": [],
   "source": [
    "y_pred = logit.predict(X_train)"
   ]
  },
  {
   "cell_type": "markdown",
   "id": "c5c95e54",
   "metadata": {},
   "source": [
    "- Estimating Probability of not surviving based on each observation"
   ]
  },
  {
   "cell_type": "code",
   "execution_count": 90,
   "id": "1522ed94",
   "metadata": {},
   "outputs": [],
   "source": [
    "y_pred_proba = logit.predict_proba(X_train)"
   ]
  },
  {
   "cell_type": "markdown",
   "id": "9b1dd125",
   "metadata": {},
   "source": [
    "### Evaluating model:"
   ]
  },
  {
   "cell_type": "code",
   "execution_count": 91,
   "id": "14607768",
   "metadata": {},
   "outputs": [
    {
     "name": "stdout",
     "output_type": "stream",
     "text": [
      "Accuracy of Logistic Regression classifier on training set: 0.71\n"
     ]
    }
   ],
   "source": [
    "#Accuracy of the models logistic classifier\n",
    "print('Accuracy of Logistic Regression classifier on training set: {:.2f}'\n",
    "     .format(logit.score(X_train, y_train)))"
   ]
  },
  {
   "cell_type": "markdown",
   "id": "857f6125",
   "metadata": {},
   "source": [
    "### <i><p style=\"color:teal;\"> TAKE AWAY: Yes! This first model's accuracy is already higher than our baseline </i></p>"
   ]
  },
  {
   "cell_type": "markdown",
   "id": "587142a4",
   "metadata": {},
   "source": [
    "- Classification Report:"
   ]
  },
  {
   "cell_type": "code",
   "execution_count": 92,
   "id": "b08a66af",
   "metadata": {},
   "outputs": [
    {
     "name": "stdout",
     "output_type": "stream",
     "text": [
      "              precision    recall  f1-score   support\n",
      "\n",
      "           0       0.72      0.86      0.79       171\n",
      "           1       0.68      0.48      0.56       107\n",
      "\n",
      "    accuracy                           0.71       278\n",
      "   macro avg       0.70      0.67      0.67       278\n",
      "weighted avg       0.71      0.71      0.70       278\n",
      "\n"
     ]
    }
   ],
   "source": [
    "print(classification_report(y_train, y_pred))"
   ]
  },
  {
   "cell_type": "markdown",
   "id": "2711078b",
   "metadata": {},
   "source": [
    "### <i><p style=\"color:teal;\"> TAKE AWAY: these are pretty good numbers. let's look at a new model with another C strength (remember, smaller values with C specify stronger regularization)\n",
    "</i></p>"
   ]
  },
  {
   "cell_type": "markdown",
   "id": "79af5765",
   "metadata": {},
   "source": [
    "### Exercise 2)\n",
    "Include sex in your model as well. Note that you'll need to encode or create a dummy variable of this feature before including it in a model."
   ]
  },
  {
   "cell_type": "code",
   "execution_count": 93,
   "id": "693f8476",
   "metadata": {},
   "outputs": [],
   "source": [
    "#rename X_train and y_train to the drop any columnsn not wanted (this time keep sex_male!)\n",
    "\n",
    "X_train = train.drop(columns=['survived','sibsp','parch','alone','embark_town_Queenstown','embark_town_Southampton','embark_town_Southhampton','baseline_prediction'])\n",
    "y_train = train.survived\n",
    "\n",
    "X_validate = validate.drop(columns=['survived','sibsp','parch','alone','embark_town_Queenstown','embark_town_Southampton','embark_town_Southhampton','baseline_prediction'])\n",
    "y_validate = validate.survived\n",
    "\n",
    "X_test = test.drop(columns=['survived','sibsp','parch','alone','embark_town_Queenstown','embark_town_Southampton','embark_town_Southhampton','baseline_prediction'])\n",
    "y_test = test.survived"
   ]
  },
  {
   "cell_type": "code",
   "execution_count": 97,
   "id": "f16d3799",
   "metadata": {},
   "outputs": [
    {
     "ename": "ZeroDivisionError",
     "evalue": "float division by zero",
     "output_type": "error",
     "traceback": [
      "\u001b[0;31m---------------------------------------------------------------------------\u001b[0m",
      "\u001b[0;31mZeroDivisionError\u001b[0m                         Traceback (most recent call last)",
      "\u001b[0;32m/var/folders/d3/11nygz6126ndxvtrp12687680000gn/T/ipykernel_2226/3703896047.py\u001b[0m in \u001b[0;36m<module>\u001b[0;34m\u001b[0m\n\u001b[1;32m      9\u001b[0m \u001b[0;34m\u001b[0m\u001b[0m\n\u001b[1;32m     10\u001b[0m     \u001b[0;31m# Fit the model (on train and only train)\u001b[0m\u001b[0;34m\u001b[0m\u001b[0;34m\u001b[0m\u001b[0m\n\u001b[0;32m---> 11\u001b[0;31m     \u001b[0mlogit\u001b[0m\u001b[0;34m.\u001b[0m\u001b[0mfit\u001b[0m\u001b[0;34m(\u001b[0m\u001b[0mX_train\u001b[0m\u001b[0;34m,\u001b[0m \u001b[0my_train\u001b[0m\u001b[0;34m)\u001b[0m\u001b[0;34m\u001b[0m\u001b[0;34m\u001b[0m\u001b[0m\n\u001b[0m\u001b[1;32m     12\u001b[0m \u001b[0;34m\u001b[0m\u001b[0m\n\u001b[1;32m     13\u001b[0m     \u001b[0;31m# Use the model\u001b[0m\u001b[0;34m\u001b[0m\u001b[0;34m\u001b[0m\u001b[0m\n",
      "\u001b[0;32m/usr/local/anaconda3/lib/python3.9/site-packages/sklearn/linear_model/_logistic.py\u001b[0m in \u001b[0;36mfit\u001b[0;34m(self, X, y, sample_weight)\u001b[0m\n\u001b[1;32m   1404\u001b[0m         \u001b[0;32melse\u001b[0m\u001b[0;34m:\u001b[0m\u001b[0;34m\u001b[0m\u001b[0;34m\u001b[0m\u001b[0m\n\u001b[1;32m   1405\u001b[0m             \u001b[0mprefer\u001b[0m \u001b[0;34m=\u001b[0m \u001b[0;34m'processes'\u001b[0m\u001b[0;34m\u001b[0m\u001b[0;34m\u001b[0m\u001b[0m\n\u001b[0;32m-> 1406\u001b[0;31m         fold_coefs_ = Parallel(n_jobs=self.n_jobs, verbose=self.verbose,\n\u001b[0m\u001b[1;32m   1407\u001b[0m                                \u001b[0;34m**\u001b[0m\u001b[0m_joblib_parallel_args\u001b[0m\u001b[0;34m(\u001b[0m\u001b[0mprefer\u001b[0m\u001b[0;34m=\u001b[0m\u001b[0mprefer\u001b[0m\u001b[0;34m)\u001b[0m\u001b[0;34m)\u001b[0m\u001b[0;34m(\u001b[0m\u001b[0;34m\u001b[0m\u001b[0;34m\u001b[0m\u001b[0m\n\u001b[1;32m   1408\u001b[0m             path_func(X, y, pos_class=class_, Cs=[C_],\n",
      "\u001b[0;32m/usr/local/anaconda3/lib/python3.9/site-packages/joblib/parallel.py\u001b[0m in \u001b[0;36m__call__\u001b[0;34m(self, iterable)\u001b[0m\n\u001b[1;32m   1041\u001b[0m             \u001b[0;31m# remaining jobs.\u001b[0m\u001b[0;34m\u001b[0m\u001b[0;34m\u001b[0m\u001b[0m\n\u001b[1;32m   1042\u001b[0m             \u001b[0mself\u001b[0m\u001b[0;34m.\u001b[0m\u001b[0m_iterating\u001b[0m \u001b[0;34m=\u001b[0m \u001b[0;32mFalse\u001b[0m\u001b[0;34m\u001b[0m\u001b[0;34m\u001b[0m\u001b[0m\n\u001b[0;32m-> 1043\u001b[0;31m             \u001b[0;32mif\u001b[0m \u001b[0mself\u001b[0m\u001b[0;34m.\u001b[0m\u001b[0mdispatch_one_batch\u001b[0m\u001b[0;34m(\u001b[0m\u001b[0miterator\u001b[0m\u001b[0;34m)\u001b[0m\u001b[0;34m:\u001b[0m\u001b[0;34m\u001b[0m\u001b[0;34m\u001b[0m\u001b[0m\n\u001b[0m\u001b[1;32m   1044\u001b[0m                 \u001b[0mself\u001b[0m\u001b[0;34m.\u001b[0m\u001b[0m_iterating\u001b[0m \u001b[0;34m=\u001b[0m \u001b[0mself\u001b[0m\u001b[0;34m.\u001b[0m\u001b[0m_original_iterator\u001b[0m \u001b[0;32mis\u001b[0m \u001b[0;32mnot\u001b[0m \u001b[0;32mNone\u001b[0m\u001b[0;34m\u001b[0m\u001b[0;34m\u001b[0m\u001b[0m\n\u001b[1;32m   1045\u001b[0m \u001b[0;34m\u001b[0m\u001b[0m\n",
      "\u001b[0;32m/usr/local/anaconda3/lib/python3.9/site-packages/joblib/parallel.py\u001b[0m in \u001b[0;36mdispatch_one_batch\u001b[0;34m(self, iterator)\u001b[0m\n\u001b[1;32m    859\u001b[0m                 \u001b[0;32mreturn\u001b[0m \u001b[0;32mFalse\u001b[0m\u001b[0;34m\u001b[0m\u001b[0;34m\u001b[0m\u001b[0m\n\u001b[1;32m    860\u001b[0m             \u001b[0;32melse\u001b[0m\u001b[0;34m:\u001b[0m\u001b[0;34m\u001b[0m\u001b[0;34m\u001b[0m\u001b[0m\n\u001b[0;32m--> 861\u001b[0;31m                 \u001b[0mself\u001b[0m\u001b[0;34m.\u001b[0m\u001b[0m_dispatch\u001b[0m\u001b[0;34m(\u001b[0m\u001b[0mtasks\u001b[0m\u001b[0;34m)\u001b[0m\u001b[0;34m\u001b[0m\u001b[0;34m\u001b[0m\u001b[0m\n\u001b[0m\u001b[1;32m    862\u001b[0m                 \u001b[0;32mreturn\u001b[0m \u001b[0;32mTrue\u001b[0m\u001b[0;34m\u001b[0m\u001b[0;34m\u001b[0m\u001b[0m\n\u001b[1;32m    863\u001b[0m \u001b[0;34m\u001b[0m\u001b[0m\n",
      "\u001b[0;32m/usr/local/anaconda3/lib/python3.9/site-packages/joblib/parallel.py\u001b[0m in \u001b[0;36m_dispatch\u001b[0;34m(self, batch)\u001b[0m\n\u001b[1;32m    777\u001b[0m         \u001b[0;32mwith\u001b[0m \u001b[0mself\u001b[0m\u001b[0;34m.\u001b[0m\u001b[0m_lock\u001b[0m\u001b[0;34m:\u001b[0m\u001b[0;34m\u001b[0m\u001b[0;34m\u001b[0m\u001b[0m\n\u001b[1;32m    778\u001b[0m             \u001b[0mjob_idx\u001b[0m \u001b[0;34m=\u001b[0m \u001b[0mlen\u001b[0m\u001b[0;34m(\u001b[0m\u001b[0mself\u001b[0m\u001b[0;34m.\u001b[0m\u001b[0m_jobs\u001b[0m\u001b[0;34m)\u001b[0m\u001b[0;34m\u001b[0m\u001b[0;34m\u001b[0m\u001b[0m\n\u001b[0;32m--> 779\u001b[0;31m             \u001b[0mjob\u001b[0m \u001b[0;34m=\u001b[0m \u001b[0mself\u001b[0m\u001b[0;34m.\u001b[0m\u001b[0m_backend\u001b[0m\u001b[0;34m.\u001b[0m\u001b[0mapply_async\u001b[0m\u001b[0;34m(\u001b[0m\u001b[0mbatch\u001b[0m\u001b[0;34m,\u001b[0m \u001b[0mcallback\u001b[0m\u001b[0;34m=\u001b[0m\u001b[0mcb\u001b[0m\u001b[0;34m)\u001b[0m\u001b[0;34m\u001b[0m\u001b[0;34m\u001b[0m\u001b[0m\n\u001b[0m\u001b[1;32m    780\u001b[0m             \u001b[0;31m# A job can complete so quickly than its callback is\u001b[0m\u001b[0;34m\u001b[0m\u001b[0;34m\u001b[0m\u001b[0m\n\u001b[1;32m    781\u001b[0m             \u001b[0;31m# called before we get here, causing self._jobs to\u001b[0m\u001b[0;34m\u001b[0m\u001b[0;34m\u001b[0m\u001b[0m\n",
      "\u001b[0;32m/usr/local/anaconda3/lib/python3.9/site-packages/joblib/_parallel_backends.py\u001b[0m in \u001b[0;36mapply_async\u001b[0;34m(self, func, callback)\u001b[0m\n\u001b[1;32m    206\u001b[0m     \u001b[0;32mdef\u001b[0m \u001b[0mapply_async\u001b[0m\u001b[0;34m(\u001b[0m\u001b[0mself\u001b[0m\u001b[0;34m,\u001b[0m \u001b[0mfunc\u001b[0m\u001b[0;34m,\u001b[0m \u001b[0mcallback\u001b[0m\u001b[0;34m=\u001b[0m\u001b[0;32mNone\u001b[0m\u001b[0;34m)\u001b[0m\u001b[0;34m:\u001b[0m\u001b[0;34m\u001b[0m\u001b[0;34m\u001b[0m\u001b[0m\n\u001b[1;32m    207\u001b[0m         \u001b[0;34m\"\"\"Schedule a func to be run\"\"\"\u001b[0m\u001b[0;34m\u001b[0m\u001b[0;34m\u001b[0m\u001b[0m\n\u001b[0;32m--> 208\u001b[0;31m         \u001b[0mresult\u001b[0m \u001b[0;34m=\u001b[0m \u001b[0mImmediateResult\u001b[0m\u001b[0;34m(\u001b[0m\u001b[0mfunc\u001b[0m\u001b[0;34m)\u001b[0m\u001b[0;34m\u001b[0m\u001b[0;34m\u001b[0m\u001b[0m\n\u001b[0m\u001b[1;32m    209\u001b[0m         \u001b[0;32mif\u001b[0m \u001b[0mcallback\u001b[0m\u001b[0;34m:\u001b[0m\u001b[0;34m\u001b[0m\u001b[0;34m\u001b[0m\u001b[0m\n\u001b[1;32m    210\u001b[0m             \u001b[0mcallback\u001b[0m\u001b[0;34m(\u001b[0m\u001b[0mresult\u001b[0m\u001b[0;34m)\u001b[0m\u001b[0;34m\u001b[0m\u001b[0;34m\u001b[0m\u001b[0m\n",
      "\u001b[0;32m/usr/local/anaconda3/lib/python3.9/site-packages/joblib/_parallel_backends.py\u001b[0m in \u001b[0;36m__init__\u001b[0;34m(self, batch)\u001b[0m\n\u001b[1;32m    570\u001b[0m         \u001b[0;31m# Don't delay the application, to avoid keeping the input\u001b[0m\u001b[0;34m\u001b[0m\u001b[0;34m\u001b[0m\u001b[0m\n\u001b[1;32m    571\u001b[0m         \u001b[0;31m# arguments in memory\u001b[0m\u001b[0;34m\u001b[0m\u001b[0;34m\u001b[0m\u001b[0m\n\u001b[0;32m--> 572\u001b[0;31m         \u001b[0mself\u001b[0m\u001b[0;34m.\u001b[0m\u001b[0mresults\u001b[0m \u001b[0;34m=\u001b[0m \u001b[0mbatch\u001b[0m\u001b[0;34m(\u001b[0m\u001b[0;34m)\u001b[0m\u001b[0;34m\u001b[0m\u001b[0;34m\u001b[0m\u001b[0m\n\u001b[0m\u001b[1;32m    573\u001b[0m \u001b[0;34m\u001b[0m\u001b[0m\n\u001b[1;32m    574\u001b[0m     \u001b[0;32mdef\u001b[0m \u001b[0mget\u001b[0m\u001b[0;34m(\u001b[0m\u001b[0mself\u001b[0m\u001b[0;34m)\u001b[0m\u001b[0;34m:\u001b[0m\u001b[0;34m\u001b[0m\u001b[0;34m\u001b[0m\u001b[0m\n",
      "\u001b[0;32m/usr/local/anaconda3/lib/python3.9/site-packages/joblib/parallel.py\u001b[0m in \u001b[0;36m__call__\u001b[0;34m(self)\u001b[0m\n\u001b[1;32m    260\u001b[0m         \u001b[0;31m# change the default number of processes to -1\u001b[0m\u001b[0;34m\u001b[0m\u001b[0;34m\u001b[0m\u001b[0m\n\u001b[1;32m    261\u001b[0m         \u001b[0;32mwith\u001b[0m \u001b[0mparallel_backend\u001b[0m\u001b[0;34m(\u001b[0m\u001b[0mself\u001b[0m\u001b[0;34m.\u001b[0m\u001b[0m_backend\u001b[0m\u001b[0;34m,\u001b[0m \u001b[0mn_jobs\u001b[0m\u001b[0;34m=\u001b[0m\u001b[0mself\u001b[0m\u001b[0;34m.\u001b[0m\u001b[0m_n_jobs\u001b[0m\u001b[0;34m)\u001b[0m\u001b[0;34m:\u001b[0m\u001b[0;34m\u001b[0m\u001b[0;34m\u001b[0m\u001b[0m\n\u001b[0;32m--> 262\u001b[0;31m             return [func(*args, **kwargs)\n\u001b[0m\u001b[1;32m    263\u001b[0m                     for func, args, kwargs in self.items]\n\u001b[1;32m    264\u001b[0m \u001b[0;34m\u001b[0m\u001b[0m\n",
      "\u001b[0;32m/usr/local/anaconda3/lib/python3.9/site-packages/joblib/parallel.py\u001b[0m in \u001b[0;36m<listcomp>\u001b[0;34m(.0)\u001b[0m\n\u001b[1;32m    260\u001b[0m         \u001b[0;31m# change the default number of processes to -1\u001b[0m\u001b[0;34m\u001b[0m\u001b[0;34m\u001b[0m\u001b[0m\n\u001b[1;32m    261\u001b[0m         \u001b[0;32mwith\u001b[0m \u001b[0mparallel_backend\u001b[0m\u001b[0;34m(\u001b[0m\u001b[0mself\u001b[0m\u001b[0;34m.\u001b[0m\u001b[0m_backend\u001b[0m\u001b[0;34m,\u001b[0m \u001b[0mn_jobs\u001b[0m\u001b[0;34m=\u001b[0m\u001b[0mself\u001b[0m\u001b[0;34m.\u001b[0m\u001b[0m_n_jobs\u001b[0m\u001b[0;34m)\u001b[0m\u001b[0;34m:\u001b[0m\u001b[0;34m\u001b[0m\u001b[0;34m\u001b[0m\u001b[0m\n\u001b[0;32m--> 262\u001b[0;31m             return [func(*args, **kwargs)\n\u001b[0m\u001b[1;32m    263\u001b[0m                     for func, args, kwargs in self.items]\n\u001b[1;32m    264\u001b[0m \u001b[0;34m\u001b[0m\u001b[0m\n",
      "\u001b[0;32m/usr/local/anaconda3/lib/python3.9/site-packages/sklearn/utils/fixes.py\u001b[0m in \u001b[0;36m__call__\u001b[0;34m(self, *args, **kwargs)\u001b[0m\n\u001b[1;32m    220\u001b[0m     \u001b[0;32mdef\u001b[0m \u001b[0m__call__\u001b[0m\u001b[0;34m(\u001b[0m\u001b[0mself\u001b[0m\u001b[0;34m,\u001b[0m \u001b[0;34m*\u001b[0m\u001b[0margs\u001b[0m\u001b[0;34m,\u001b[0m \u001b[0;34m**\u001b[0m\u001b[0mkwargs\u001b[0m\u001b[0;34m)\u001b[0m\u001b[0;34m:\u001b[0m\u001b[0;34m\u001b[0m\u001b[0;34m\u001b[0m\u001b[0m\n\u001b[1;32m    221\u001b[0m         \u001b[0;32mwith\u001b[0m \u001b[0mconfig_context\u001b[0m\u001b[0;34m(\u001b[0m\u001b[0;34m**\u001b[0m\u001b[0mself\u001b[0m\u001b[0;34m.\u001b[0m\u001b[0mconfig\u001b[0m\u001b[0;34m)\u001b[0m\u001b[0;34m:\u001b[0m\u001b[0;34m\u001b[0m\u001b[0;34m\u001b[0m\u001b[0m\n\u001b[0;32m--> 222\u001b[0;31m             \u001b[0;32mreturn\u001b[0m \u001b[0mself\u001b[0m\u001b[0;34m.\u001b[0m\u001b[0mfunction\u001b[0m\u001b[0;34m(\u001b[0m\u001b[0;34m*\u001b[0m\u001b[0margs\u001b[0m\u001b[0;34m,\u001b[0m \u001b[0;34m**\u001b[0m\u001b[0mkwargs\u001b[0m\u001b[0;34m)\u001b[0m\u001b[0;34m\u001b[0m\u001b[0;34m\u001b[0m\u001b[0m\n\u001b[0m",
      "\u001b[0;32m/usr/local/anaconda3/lib/python3.9/site-packages/sklearn/linear_model/_logistic.py\u001b[0m in \u001b[0;36m_logistic_regression_path\u001b[0;34m(X, y, pos_class, Cs, fit_intercept, max_iter, tol, verbose, solver, coef, class_weight, dual, penalty, intercept_scaling, multi_class, random_state, check_input, max_squared_sum, sample_weight, l1_ratio)\u001b[0m\n\u001b[1;32m    758\u001b[0m             opt_res = optimize.minimize(\n\u001b[1;32m    759\u001b[0m                 \u001b[0mfunc\u001b[0m\u001b[0;34m,\u001b[0m \u001b[0mw0\u001b[0m\u001b[0;34m,\u001b[0m \u001b[0mmethod\u001b[0m\u001b[0;34m=\u001b[0m\u001b[0;34m\"L-BFGS-B\"\u001b[0m\u001b[0;34m,\u001b[0m \u001b[0mjac\u001b[0m\u001b[0;34m=\u001b[0m\u001b[0;32mTrue\u001b[0m\u001b[0;34m,\u001b[0m\u001b[0;34m\u001b[0m\u001b[0;34m\u001b[0m\u001b[0m\n\u001b[0;32m--> 760\u001b[0;31m                 \u001b[0margs\u001b[0m\u001b[0;34m=\u001b[0m\u001b[0;34m(\u001b[0m\u001b[0mX\u001b[0m\u001b[0;34m,\u001b[0m \u001b[0mtarget\u001b[0m\u001b[0;34m,\u001b[0m \u001b[0;36m1.\u001b[0m \u001b[0;34m/\u001b[0m \u001b[0mC\u001b[0m\u001b[0;34m,\u001b[0m \u001b[0msample_weight\u001b[0m\u001b[0;34m)\u001b[0m\u001b[0;34m,\u001b[0m\u001b[0;34m\u001b[0m\u001b[0;34m\u001b[0m\u001b[0m\n\u001b[0m\u001b[1;32m    761\u001b[0m                 \u001b[0moptions\u001b[0m\u001b[0;34m=\u001b[0m\u001b[0;34m{\u001b[0m\u001b[0;34m\"iprint\"\u001b[0m\u001b[0;34m:\u001b[0m \u001b[0miprint\u001b[0m\u001b[0;34m,\u001b[0m \u001b[0;34m\"gtol\"\u001b[0m\u001b[0;34m:\u001b[0m \u001b[0mtol\u001b[0m\u001b[0;34m,\u001b[0m \u001b[0;34m\"maxiter\"\u001b[0m\u001b[0;34m:\u001b[0m \u001b[0mmax_iter\u001b[0m\u001b[0;34m}\u001b[0m\u001b[0;34m\u001b[0m\u001b[0;34m\u001b[0m\u001b[0m\n\u001b[1;32m    762\u001b[0m             )\n",
      "\u001b[0;31mZeroDivisionError\u001b[0m: float division by zero"
     ]
    }
   ],
   "source": [
    "#creating a 'for-loop' that can change the C value\n",
    "\n",
    "for i in range(0,1):\n",
    "    # Make the model\n",
    "    logit = LogisticRegression(C=i, \n",
    "                               random_state=123, \n",
    "                               intercept_scaling=1, \n",
    "                               solver='lbfgs')\n",
    "\n",
    "    # Fit the model (on train and only train)\n",
    "    logit.fit(X_train, y_train)\n",
    "\n",
    "    # Use the model\n",
    "    # We'll evaluate the model's performance on train, first\n",
    "    y_pred = logit.predict(X_train)\n",
    "\n",
    "    # Produce the classification report on the actual y values and this model's predicted y values\n",
    "    report = classification_report(y_train, y_predictions, output_dict=True)\n",
    "    print(f\"Random Forest model with max depth of {i}\")\n",
    "    print(pd.DataFrame(report))\n",
    "    print()"
   ]
  },
  {
   "cell_type": "code",
   "execution_count": null,
   "id": "126f013f",
   "metadata": {},
   "outputs": [],
   "source": []
  }
 ],
 "metadata": {
  "kernelspec": {
   "display_name": "Python 3 (ipykernel)",
   "language": "python",
   "name": "python3"
  },
  "language_info": {
   "codemirror_mode": {
    "name": "ipython",
    "version": 3
   },
   "file_extension": ".py",
   "mimetype": "text/x-python",
   "name": "python",
   "nbconvert_exporter": "python",
   "pygments_lexer": "ipython3",
   "version": "3.9.7"
  }
 },
 "nbformat": 4,
 "nbformat_minor": 5
}
