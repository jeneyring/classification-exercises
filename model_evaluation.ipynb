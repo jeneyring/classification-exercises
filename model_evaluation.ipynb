{
 "cells": [
  {
   "cell_type": "markdown",
   "id": "f0e7857a",
   "metadata": {},
   "source": [
    "## Model Evaluation Exercises:\n",
    "\n",
    "### Exercise 1)\n",
    "Create a new file named model_evaluation.py or model_evaluation.ipynb for these exercises."
   ]
  },
  {
   "cell_type": "code",
   "execution_count": null,
   "id": "27361ded",
   "metadata": {},
   "outputs": [],
   "source": [
    "#done!"
   ]
  },
  {
   "cell_type": "markdown",
   "id": "5af9ab7c",
   "metadata": {},
   "source": [
    "### Exercise 2)\n",
    "Given the following confusion matrix, evaluate (by hand) the model's performance."
   ]
  },
  {
   "cell_type": "code",
   "execution_count": 1,
   "id": "e399f08a",
   "metadata": {},
   "outputs": [],
   "source": [
    "#|               | pred dog   | pred cat   |\n",
    "#|:------------  |-----------:|-----------:|\n",
    "#| actual dog    |         46 |         7  |\n",
    "#| actual cat    |         13 |         34 |"
   ]
  },
  {
   "cell_type": "code",
   "execution_count": 4,
   "id": "84ee0ed6",
   "metadata": {},
   "outputs": [
    {
     "data": {
      "text/plain": [
       "100"
      ]
     },
     "execution_count": 4,
     "metadata": {},
     "output_type": "execute_result"
    }
   ],
   "source": [
    "actual_dogs= 46 + 7\n",
    "actual_cats= 13 + 34\n",
    "total_guesses= actual_dogs + actual_cats\n",
    "total_guesses"
   ]
  },
  {
   "cell_type": "markdown",
   "id": "1c558824",
   "metadata": {},
   "source": [
    "- <b>80% correctly predicts dogs & cats</b> (46 +34)\n",
    "- <b>20% incorrectly predicts dogs/cats</b> (13+7)"
   ]
  },
  {
   "cell_type": "markdown",
   "id": "300378bb",
   "metadata": {},
   "source": [
    "- In the context of this problem, what is a false positive?"
   ]
  },
  {
   "cell_type": "code",
   "execution_count": null,
   "id": "d825406a",
   "metadata": {},
   "outputs": [],
   "source": [
    "#TP: predicted dog + actual is dog\n",
    "#FP: predicted dog, but is a cat\n",
    "#FN: predicted cat, but really dog\n",
    "#TN: predicted cat, actual cat"
   ]
  },
  {
   "cell_type": "markdown",
   "id": "481b86e8",
   "metadata": {},
   "source": [
    "- In the context of this problem, what is a false negative?"
   ]
  },
  {
   "cell_type": "code",
   "execution_count": null,
   "id": "1be85916",
   "metadata": {},
   "outputs": [],
   "source": []
  },
  {
   "cell_type": "markdown",
   "id": "e5516675",
   "metadata": {},
   "source": [
    "- How would you describe this model?"
   ]
  },
  {
   "cell_type": "code",
   "execution_count": null,
   "id": "1e82913f",
   "metadata": {},
   "outputs": [],
   "source": []
  }
 ],
 "metadata": {
  "kernelspec": {
   "display_name": "Python 3 (ipykernel)",
   "language": "python",
   "name": "python3"
  },
  "language_info": {
   "codemirror_mode": {
    "name": "ipython",
    "version": 3
   },
   "file_extension": ".py",
   "mimetype": "text/x-python",
   "name": "python",
   "nbconvert_exporter": "python",
   "pygments_lexer": "ipython3",
   "version": "3.9.7"
  }
 },
 "nbformat": 4,
 "nbformat_minor": 5
}
